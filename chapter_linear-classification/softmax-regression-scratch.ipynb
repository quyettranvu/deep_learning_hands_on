{
  "cells": [
    {
      "cell_type": "markdown",
      "metadata": {
        "id": "view-in-github",
        "colab_type": "text"
      },
      "source": [
        "<a href=\"https://colab.research.google.com/github/quyettranvu/deep_learning_hands_on/blob/feature/chapter_linear-classification/softmax-regression-scratch.ipynb\" target=\"_parent\"><img src=\"https://colab.research.google.com/assets/colab-badge.svg\" alt=\"Open In Colab\"/></a>"
      ]
    },
    {
      "cell_type": "markdown",
      "id": "840562b8",
      "metadata": {
        "id": "840562b8"
      },
      "source": [
        "The following additional libraries are needed to run this\n",
        "notebook. Note that running on Colab is experimental, please report a Github\n",
        "issue if you have any problem."
      ]
    },
    {
      "cell_type": "code",
      "execution_count": 1,
      "id": "7f9183ee",
      "metadata": {
        "id": "7f9183ee",
        "outputId": "ad39230f-be64-4346-aa8d-a17ff9e2bea5",
        "colab": {
          "base_uri": "https://localhost:8080/"
        }
      },
      "outputs": [
        {
          "output_type": "stream",
          "name": "stdout",
          "text": [
            "Requirement already satisfied: pip in /usr/local/lib/python3.12/dist-packages (25.2)\n",
            "Requirement already satisfied: d2l==1.0.3 in /usr/local/lib/python3.12/dist-packages (1.0.3)\n",
            "Requirement already satisfied: numpy<2,>=1.26 in /usr/local/lib/python3.12/dist-packages (1.26.4)\n",
            "Requirement already satisfied: matplotlib in /usr/local/lib/python3.12/dist-packages (3.10.0)\n",
            "Requirement already satisfied: pandas in /usr/local/lib/python3.12/dist-packages (2.2.2)\n",
            "Requirement already satisfied: jupyter in /usr/local/lib/python3.12/dist-packages (1.1.1)\n",
            "Requirement already satisfied: contourpy>=1.0.1 in /usr/local/lib/python3.12/dist-packages (from matplotlib) (1.3.3)\n",
            "Requirement already satisfied: cycler>=0.10 in /usr/local/lib/python3.12/dist-packages (from matplotlib) (0.12.1)\n",
            "Requirement already satisfied: fonttools>=4.22.0 in /usr/local/lib/python3.12/dist-packages (from matplotlib) (4.59.1)\n",
            "Requirement already satisfied: kiwisolver>=1.3.1 in /usr/local/lib/python3.12/dist-packages (from matplotlib) (1.4.9)\n",
            "Requirement already satisfied: packaging>=20.0 in /usr/local/lib/python3.12/dist-packages (from matplotlib) (25.0)\n",
            "Requirement already satisfied: pillow>=8 in /usr/local/lib/python3.12/dist-packages (from matplotlib) (11.3.0)\n",
            "Requirement already satisfied: pyparsing>=2.3.1 in /usr/local/lib/python3.12/dist-packages (from matplotlib) (3.2.3)\n",
            "Requirement already satisfied: python-dateutil>=2.7 in /usr/local/lib/python3.12/dist-packages (from matplotlib) (2.9.0.post0)\n",
            "Requirement already satisfied: pytz>=2020.1 in /usr/local/lib/python3.12/dist-packages (from pandas) (2025.2)\n",
            "Requirement already satisfied: tzdata>=2022.7 in /usr/local/lib/python3.12/dist-packages (from pandas) (2025.2)\n",
            "Requirement already satisfied: notebook in /usr/local/lib/python3.12/dist-packages (from jupyter) (6.5.7)\n",
            "Requirement already satisfied: jupyter-console in /usr/local/lib/python3.12/dist-packages (from jupyter) (6.1.0)\n",
            "Requirement already satisfied: nbconvert in /usr/local/lib/python3.12/dist-packages (from jupyter) (7.16.6)\n",
            "Requirement already satisfied: ipykernel in /usr/local/lib/python3.12/dist-packages (from jupyter) (6.17.1)\n",
            "Requirement already satisfied: ipywidgets in /usr/local/lib/python3.12/dist-packages (from jupyter) (7.7.1)\n",
            "Requirement already satisfied: jupyterlab in /usr/local/lib/python3.12/dist-packages (from jupyter) (4.4.6)\n",
            "Requirement already satisfied: six>=1.5 in /usr/local/lib/python3.12/dist-packages (from python-dateutil>=2.7->matplotlib) (1.17.0)\n",
            "Requirement already satisfied: debugpy>=1.0 in /usr/local/lib/python3.12/dist-packages (from ipykernel->jupyter) (1.8.15)\n",
            "Requirement already satisfied: ipython>=7.23.1 in /usr/local/lib/python3.12/dist-packages (from ipykernel->jupyter) (7.34.0)\n",
            "Requirement already satisfied: jupyter-client>=6.1.12 in /usr/local/lib/python3.12/dist-packages (from ipykernel->jupyter) (7.4.9)\n",
            "Requirement already satisfied: matplotlib-inline>=0.1 in /usr/local/lib/python3.12/dist-packages (from ipykernel->jupyter) (0.1.7)\n",
            "Requirement already satisfied: nest-asyncio in /usr/local/lib/python3.12/dist-packages (from ipykernel->jupyter) (1.6.0)\n",
            "Requirement already satisfied: psutil in /usr/local/lib/python3.12/dist-packages (from ipykernel->jupyter) (5.9.5)\n",
            "Requirement already satisfied: pyzmq>=17 in /usr/local/lib/python3.12/dist-packages (from ipykernel->jupyter) (26.2.1)\n",
            "Requirement already satisfied: tornado>=6.1 in /usr/local/lib/python3.12/dist-packages (from ipykernel->jupyter) (6.4.2)\n",
            "Requirement already satisfied: traitlets>=5.1.0 in /usr/local/lib/python3.12/dist-packages (from ipykernel->jupyter) (5.7.1)\n",
            "Requirement already satisfied: setuptools>=18.5 in /usr/local/lib/python3.12/dist-packages (from ipython>=7.23.1->ipykernel->jupyter) (75.2.0)\n",
            "Requirement already satisfied: jedi>=0.16 in /usr/local/lib/python3.12/dist-packages (from ipython>=7.23.1->ipykernel->jupyter) (0.19.2)\n",
            "Requirement already satisfied: decorator in /usr/local/lib/python3.12/dist-packages (from ipython>=7.23.1->ipykernel->jupyter) (4.4.2)\n",
            "Requirement already satisfied: pickleshare in /usr/local/lib/python3.12/dist-packages (from ipython>=7.23.1->ipykernel->jupyter) (0.7.5)\n",
            "Requirement already satisfied: prompt-toolkit!=3.0.0,!=3.0.1,<3.1.0,>=2.0.0 in /usr/local/lib/python3.12/dist-packages (from ipython>=7.23.1->ipykernel->jupyter) (3.0.51)\n",
            "Requirement already satisfied: pygments in /usr/local/lib/python3.12/dist-packages (from ipython>=7.23.1->ipykernel->jupyter) (2.19.2)\n",
            "Requirement already satisfied: backcall in /usr/local/lib/python3.12/dist-packages (from ipython>=7.23.1->ipykernel->jupyter) (0.2.0)\n",
            "Requirement already satisfied: pexpect>4.3 in /usr/local/lib/python3.12/dist-packages (from ipython>=7.23.1->ipykernel->jupyter) (4.9.0)\n",
            "Requirement already satisfied: wcwidth in /usr/local/lib/python3.12/dist-packages (from prompt-toolkit!=3.0.0,!=3.0.1,<3.1.0,>=2.0.0->ipython>=7.23.1->ipykernel->jupyter) (0.2.13)\n",
            "Requirement already satisfied: parso<0.9.0,>=0.8.4 in /usr/local/lib/python3.12/dist-packages (from jedi>=0.16->ipython>=7.23.1->ipykernel->jupyter) (0.8.5)\n",
            "Requirement already satisfied: entrypoints in /usr/local/lib/python3.12/dist-packages (from jupyter-client>=6.1.12->ipykernel->jupyter) (0.4)\n",
            "Requirement already satisfied: jupyter-core>=4.9.2 in /usr/local/lib/python3.12/dist-packages (from jupyter-client>=6.1.12->ipykernel->jupyter) (5.8.1)\n",
            "Requirement already satisfied: platformdirs>=2.5 in /usr/local/lib/python3.12/dist-packages (from jupyter-core>=4.9.2->jupyter-client>=6.1.12->ipykernel->jupyter) (4.3.8)\n",
            "Requirement already satisfied: ptyprocess>=0.5 in /usr/local/lib/python3.12/dist-packages (from pexpect>4.3->ipython>=7.23.1->ipykernel->jupyter) (0.7.0)\n",
            "Requirement already satisfied: ipython-genutils~=0.2.0 in /usr/local/lib/python3.12/dist-packages (from ipywidgets->jupyter) (0.2.0)\n",
            "Requirement already satisfied: widgetsnbextension~=3.6.0 in /usr/local/lib/python3.12/dist-packages (from ipywidgets->jupyter) (3.6.10)\n",
            "Requirement already satisfied: jupyterlab-widgets>=1.0.0 in /usr/local/lib/python3.12/dist-packages (from ipywidgets->jupyter) (3.0.15)\n",
            "Requirement already satisfied: jinja2 in /usr/local/lib/python3.12/dist-packages (from notebook->jupyter) (3.1.6)\n",
            "Requirement already satisfied: argon2-cffi in /usr/local/lib/python3.12/dist-packages (from notebook->jupyter) (25.1.0)\n",
            "Requirement already satisfied: nbformat in /usr/local/lib/python3.12/dist-packages (from notebook->jupyter) (5.10.4)\n",
            "Requirement already satisfied: Send2Trash>=1.8.0 in /usr/local/lib/python3.12/dist-packages (from notebook->jupyter) (1.8.3)\n",
            "Requirement already satisfied: terminado>=0.8.3 in /usr/local/lib/python3.12/dist-packages (from notebook->jupyter) (0.18.1)\n",
            "Requirement already satisfied: prometheus-client in /usr/local/lib/python3.12/dist-packages (from notebook->jupyter) (0.22.1)\n",
            "Requirement already satisfied: nbclassic>=0.4.7 in /usr/local/lib/python3.12/dist-packages (from notebook->jupyter) (1.3.1)\n",
            "Requirement already satisfied: notebook-shim>=0.2.3 in /usr/local/lib/python3.12/dist-packages (from nbclassic>=0.4.7->notebook->jupyter) (0.2.4)\n",
            "Requirement already satisfied: beautifulsoup4 in /usr/local/lib/python3.12/dist-packages (from nbconvert->jupyter) (4.13.5)\n",
            "Requirement already satisfied: bleach!=5.0.0 in /usr/local/lib/python3.12/dist-packages (from bleach[css]!=5.0.0->nbconvert->jupyter) (6.2.0)\n",
            "Requirement already satisfied: defusedxml in /usr/local/lib/python3.12/dist-packages (from nbconvert->jupyter) (0.7.1)\n",
            "Requirement already satisfied: jupyterlab-pygments in /usr/local/lib/python3.12/dist-packages (from nbconvert->jupyter) (0.3.0)\n",
            "Requirement already satisfied: markupsafe>=2.0 in /usr/local/lib/python3.12/dist-packages (from nbconvert->jupyter) (3.0.2)\n",
            "Requirement already satisfied: mistune<4,>=2.0.3 in /usr/local/lib/python3.12/dist-packages (from nbconvert->jupyter) (3.1.3)\n",
            "Requirement already satisfied: nbclient>=0.5.0 in /usr/local/lib/python3.12/dist-packages (from nbconvert->jupyter) (0.10.2)\n",
            "Requirement already satisfied: pandocfilters>=1.4.1 in /usr/local/lib/python3.12/dist-packages (from nbconvert->jupyter) (1.5.1)\n",
            "Requirement already satisfied: webencodings in /usr/local/lib/python3.12/dist-packages (from bleach!=5.0.0->bleach[css]!=5.0.0->nbconvert->jupyter) (0.5.1)\n",
            "Requirement already satisfied: tinycss2<1.5,>=1.1.0 in /usr/local/lib/python3.12/dist-packages (from bleach[css]!=5.0.0->nbconvert->jupyter) (1.4.0)\n",
            "Requirement already satisfied: fastjsonschema>=2.15 in /usr/local/lib/python3.12/dist-packages (from nbformat->notebook->jupyter) (2.21.2)\n",
            "Requirement already satisfied: jsonschema>=2.6 in /usr/local/lib/python3.12/dist-packages (from nbformat->notebook->jupyter) (4.25.1)\n",
            "Requirement already satisfied: attrs>=22.2.0 in /usr/local/lib/python3.12/dist-packages (from jsonschema>=2.6->nbformat->notebook->jupyter) (25.3.0)\n",
            "Requirement already satisfied: jsonschema-specifications>=2023.03.6 in /usr/local/lib/python3.12/dist-packages (from jsonschema>=2.6->nbformat->notebook->jupyter) (2025.4.1)\n",
            "Requirement already satisfied: referencing>=0.28.4 in /usr/local/lib/python3.12/dist-packages (from jsonschema>=2.6->nbformat->notebook->jupyter) (0.36.2)\n",
            "Requirement already satisfied: rpds-py>=0.7.1 in /usr/local/lib/python3.12/dist-packages (from jsonschema>=2.6->nbformat->notebook->jupyter) (0.27.0)\n",
            "Requirement already satisfied: jupyter-server<3,>=1.8 in /usr/local/lib/python3.12/dist-packages (from notebook-shim>=0.2.3->nbclassic>=0.4.7->notebook->jupyter) (2.17.0)\n",
            "Requirement already satisfied: anyio>=3.1.0 in /usr/local/lib/python3.12/dist-packages (from jupyter-server<3,>=1.8->notebook-shim>=0.2.3->nbclassic>=0.4.7->notebook->jupyter) (4.10.0)\n",
            "Requirement already satisfied: jupyter-events>=0.11.0 in /usr/local/lib/python3.12/dist-packages (from jupyter-server<3,>=1.8->notebook-shim>=0.2.3->nbclassic>=0.4.7->notebook->jupyter) (0.12.0)\n",
            "Requirement already satisfied: jupyter-server-terminals>=0.4.4 in /usr/local/lib/python3.12/dist-packages (from jupyter-server<3,>=1.8->notebook-shim>=0.2.3->nbclassic>=0.4.7->notebook->jupyter) (0.5.3)\n",
            "Requirement already satisfied: websocket-client>=1.7 in /usr/local/lib/python3.12/dist-packages (from jupyter-server<3,>=1.8->notebook-shim>=0.2.3->nbclassic>=0.4.7->notebook->jupyter) (1.8.0)\n",
            "Requirement already satisfied: idna>=2.8 in /usr/local/lib/python3.12/dist-packages (from anyio>=3.1.0->jupyter-server<3,>=1.8->notebook-shim>=0.2.3->nbclassic>=0.4.7->notebook->jupyter) (3.10)\n",
            "Requirement already satisfied: sniffio>=1.1 in /usr/local/lib/python3.12/dist-packages (from anyio>=3.1.0->jupyter-server<3,>=1.8->notebook-shim>=0.2.3->nbclassic>=0.4.7->notebook->jupyter) (1.3.1)\n",
            "Requirement already satisfied: typing_extensions>=4.5 in /usr/local/lib/python3.12/dist-packages (from anyio>=3.1.0->jupyter-server<3,>=1.8->notebook-shim>=0.2.3->nbclassic>=0.4.7->notebook->jupyter) (4.15.0)\n",
            "Requirement already satisfied: argon2-cffi-bindings in /usr/local/lib/python3.12/dist-packages (from argon2-cffi->notebook->jupyter) (25.1.0)\n",
            "Requirement already satisfied: python-json-logger>=2.0.4 in /usr/local/lib/python3.12/dist-packages (from jupyter-events>=0.11.0->jupyter-server<3,>=1.8->notebook-shim>=0.2.3->nbclassic>=0.4.7->notebook->jupyter) (3.3.0)\n",
            "Requirement already satisfied: pyyaml>=5.3 in /usr/local/lib/python3.12/dist-packages (from jupyter-events>=0.11.0->jupyter-server<3,>=1.8->notebook-shim>=0.2.3->nbclassic>=0.4.7->notebook->jupyter) (6.0.2)\n",
            "Requirement already satisfied: rfc3339-validator in /usr/local/lib/python3.12/dist-packages (from jupyter-events>=0.11.0->jupyter-server<3,>=1.8->notebook-shim>=0.2.3->nbclassic>=0.4.7->notebook->jupyter) (0.1.4)\n",
            "Requirement already satisfied: rfc3986-validator>=0.1.1 in /usr/local/lib/python3.12/dist-packages (from jupyter-events>=0.11.0->jupyter-server<3,>=1.8->notebook-shim>=0.2.3->nbclassic>=0.4.7->notebook->jupyter) (0.1.1)\n",
            "Requirement already satisfied: fqdn in /usr/local/lib/python3.12/dist-packages (from jsonschema[format-nongpl]>=4.18.0->jupyter-events>=0.11.0->jupyter-server<3,>=1.8->notebook-shim>=0.2.3->nbclassic>=0.4.7->notebook->jupyter) (1.5.1)\n",
            "Requirement already satisfied: isoduration in /usr/local/lib/python3.12/dist-packages (from jsonschema[format-nongpl]>=4.18.0->jupyter-events>=0.11.0->jupyter-server<3,>=1.8->notebook-shim>=0.2.3->nbclassic>=0.4.7->notebook->jupyter) (20.11.0)\n",
            "Requirement already satisfied: jsonpointer>1.13 in /usr/local/lib/python3.12/dist-packages (from jsonschema[format-nongpl]>=4.18.0->jupyter-events>=0.11.0->jupyter-server<3,>=1.8->notebook-shim>=0.2.3->nbclassic>=0.4.7->notebook->jupyter) (3.0.0)\n",
            "Requirement already satisfied: rfc3987-syntax>=1.1.0 in /usr/local/lib/python3.12/dist-packages (from jsonschema[format-nongpl]>=4.18.0->jupyter-events>=0.11.0->jupyter-server<3,>=1.8->notebook-shim>=0.2.3->nbclassic>=0.4.7->notebook->jupyter) (1.1.0)\n",
            "Requirement already satisfied: uri-template in /usr/local/lib/python3.12/dist-packages (from jsonschema[format-nongpl]>=4.18.0->jupyter-events>=0.11.0->jupyter-server<3,>=1.8->notebook-shim>=0.2.3->nbclassic>=0.4.7->notebook->jupyter) (1.3.0)\n",
            "Requirement already satisfied: webcolors>=24.6.0 in /usr/local/lib/python3.12/dist-packages (from jsonschema[format-nongpl]>=4.18.0->jupyter-events>=0.11.0->jupyter-server<3,>=1.8->notebook-shim>=0.2.3->nbclassic>=0.4.7->notebook->jupyter) (24.11.1)\n",
            "Requirement already satisfied: lark>=1.2.2 in /usr/local/lib/python3.12/dist-packages (from rfc3987-syntax>=1.1.0->jsonschema[format-nongpl]>=4.18.0->jupyter-events>=0.11.0->jupyter-server<3,>=1.8->notebook-shim>=0.2.3->nbclassic>=0.4.7->notebook->jupyter) (1.2.2)\n",
            "Requirement already satisfied: cffi>=1.0.1 in /usr/local/lib/python3.12/dist-packages (from argon2-cffi-bindings->argon2-cffi->notebook->jupyter) (1.17.1)\n",
            "Requirement already satisfied: pycparser in /usr/local/lib/python3.12/dist-packages (from cffi>=1.0.1->argon2-cffi-bindings->argon2-cffi->notebook->jupyter) (2.22)\n",
            "Requirement already satisfied: soupsieve>1.2 in /usr/local/lib/python3.12/dist-packages (from beautifulsoup4->nbconvert->jupyter) (2.7)\n",
            "Requirement already satisfied: arrow>=0.15.0 in /usr/local/lib/python3.12/dist-packages (from isoduration->jsonschema[format-nongpl]>=4.18.0->jupyter-events>=0.11.0->jupyter-server<3,>=1.8->notebook-shim>=0.2.3->nbclassic>=0.4.7->notebook->jupyter) (1.3.0)\n",
            "Requirement already satisfied: types-python-dateutil>=2.8.10 in /usr/local/lib/python3.12/dist-packages (from arrow>=0.15.0->isoduration->jsonschema[format-nongpl]>=4.18.0->jupyter-events>=0.11.0->jupyter-server<3,>=1.8->notebook-shim>=0.2.3->nbclassic>=0.4.7->notebook->jupyter) (2.9.0.20250822)\n",
            "Requirement already satisfied: async-lru>=1.0.0 in /usr/local/lib/python3.12/dist-packages (from jupyterlab->jupyter) (2.0.5)\n",
            "Requirement already satisfied: httpx<1,>=0.25.0 in /usr/local/lib/python3.12/dist-packages (from jupyterlab->jupyter) (0.28.1)\n",
            "Requirement already satisfied: jupyter-lsp>=2.0.0 in /usr/local/lib/python3.12/dist-packages (from jupyterlab->jupyter) (2.3.0)\n",
            "Requirement already satisfied: jupyterlab-server<3,>=2.27.1 in /usr/local/lib/python3.12/dist-packages (from jupyterlab->jupyter) (2.27.3)\n",
            "Requirement already satisfied: certifi in /usr/local/lib/python3.12/dist-packages (from httpx<1,>=0.25.0->jupyterlab->jupyter) (2025.8.3)\n",
            "Requirement already satisfied: httpcore==1.* in /usr/local/lib/python3.12/dist-packages (from httpx<1,>=0.25.0->jupyterlab->jupyter) (1.0.9)\n",
            "Requirement already satisfied: h11>=0.16 in /usr/local/lib/python3.12/dist-packages (from httpcore==1.*->httpx<1,>=0.25.0->jupyterlab->jupyter) (0.16.0)\n",
            "Requirement already satisfied: babel>=2.10 in /usr/local/lib/python3.12/dist-packages (from jupyterlab-server<3,>=2.27.1->jupyterlab->jupyter) (2.17.0)\n",
            "Requirement already satisfied: json5>=0.9.0 in /usr/local/lib/python3.12/dist-packages (from jupyterlab-server<3,>=2.27.1->jupyterlab->jupyter) (0.12.1)\n",
            "Requirement already satisfied: requests>=2.31 in /usr/local/lib/python3.12/dist-packages (from jupyterlab-server<3,>=2.27.1->jupyterlab->jupyter) (2.32.4)\n",
            "Requirement already satisfied: charset_normalizer<4,>=2 in /usr/local/lib/python3.12/dist-packages (from requests>=2.31->jupyterlab-server<3,>=2.27.1->jupyterlab->jupyter) (3.4.3)\n",
            "Requirement already satisfied: urllib3<3,>=1.21.1 in /usr/local/lib/python3.12/dist-packages (from requests>=2.31->jupyterlab-server<3,>=2.27.1->jupyterlab->jupyter) (2.5.0)\n",
            "Looking in indexes: https://download.pytorch.org/whl/cpu\n",
            "Requirement already satisfied: torch in /usr/local/lib/python3.12/dist-packages (2.8.0+cu126)\n",
            "Requirement already satisfied: torchvision in /usr/local/lib/python3.12/dist-packages (0.23.0+cu126)\n",
            "Requirement already satisfied: torchaudio in /usr/local/lib/python3.12/dist-packages (2.8.0+cu126)\n",
            "Requirement already satisfied: filelock in /usr/local/lib/python3.12/dist-packages (from torch) (3.19.1)\n",
            "Requirement already satisfied: typing-extensions>=4.10.0 in /usr/local/lib/python3.12/dist-packages (from torch) (4.15.0)\n",
            "Requirement already satisfied: setuptools in /usr/local/lib/python3.12/dist-packages (from torch) (75.2.0)\n",
            "Requirement already satisfied: sympy>=1.13.3 in /usr/local/lib/python3.12/dist-packages (from torch) (1.13.3)\n",
            "Requirement already satisfied: networkx in /usr/local/lib/python3.12/dist-packages (from torch) (3.5)\n",
            "Requirement already satisfied: jinja2 in /usr/local/lib/python3.12/dist-packages (from torch) (3.1.6)\n",
            "Requirement already satisfied: fsspec in /usr/local/lib/python3.12/dist-packages (from torch) (2025.3.0)\n",
            "Requirement already satisfied: nvidia-cuda-nvrtc-cu12==12.6.77 in /usr/local/lib/python3.12/dist-packages (from torch) (12.6.77)\n",
            "Requirement already satisfied: nvidia-cuda-runtime-cu12==12.6.77 in /usr/local/lib/python3.12/dist-packages (from torch) (12.6.77)\n",
            "Requirement already satisfied: nvidia-cuda-cupti-cu12==12.6.80 in /usr/local/lib/python3.12/dist-packages (from torch) (12.6.80)\n",
            "Requirement already satisfied: nvidia-cudnn-cu12==9.10.2.21 in /usr/local/lib/python3.12/dist-packages (from torch) (9.10.2.21)\n",
            "Requirement already satisfied: nvidia-cublas-cu12==12.6.4.1 in /usr/local/lib/python3.12/dist-packages (from torch) (12.6.4.1)\n",
            "Requirement already satisfied: nvidia-cufft-cu12==11.3.0.4 in /usr/local/lib/python3.12/dist-packages (from torch) (11.3.0.4)\n",
            "Requirement already satisfied: nvidia-curand-cu12==10.3.7.77 in /usr/local/lib/python3.12/dist-packages (from torch) (10.3.7.77)\n",
            "Requirement already satisfied: nvidia-cusolver-cu12==11.7.1.2 in /usr/local/lib/python3.12/dist-packages (from torch) (11.7.1.2)\n",
            "Requirement already satisfied: nvidia-cusparse-cu12==12.5.4.2 in /usr/local/lib/python3.12/dist-packages (from torch) (12.5.4.2)\n",
            "Requirement already satisfied: nvidia-cusparselt-cu12==0.7.1 in /usr/local/lib/python3.12/dist-packages (from torch) (0.7.1)\n",
            "Requirement already satisfied: nvidia-nccl-cu12==2.27.3 in /usr/local/lib/python3.12/dist-packages (from torch) (2.27.3)\n",
            "Requirement already satisfied: nvidia-nvtx-cu12==12.6.77 in /usr/local/lib/python3.12/dist-packages (from torch) (12.6.77)\n",
            "Requirement already satisfied: nvidia-nvjitlink-cu12==12.6.85 in /usr/local/lib/python3.12/dist-packages (from torch) (12.6.85)\n",
            "Requirement already satisfied: nvidia-cufile-cu12==1.11.1.6 in /usr/local/lib/python3.12/dist-packages (from torch) (1.11.1.6)\n",
            "Requirement already satisfied: triton==3.4.0 in /usr/local/lib/python3.12/dist-packages (from torch) (3.4.0)\n",
            "Requirement already satisfied: numpy in /usr/local/lib/python3.12/dist-packages (from torchvision) (1.26.4)\n",
            "Requirement already satisfied: pillow!=8.3.*,>=5.3.0 in /usr/local/lib/python3.12/dist-packages (from torchvision) (11.3.0)\n",
            "Requirement already satisfied: mpmath<1.4,>=1.1.0 in /usr/local/lib/python3.12/dist-packages (from sympy>=1.13.3->torch) (1.3.0)\n",
            "Requirement already satisfied: MarkupSafe>=2.0 in /usr/local/lib/python3.12/dist-packages (from jinja2->torch) (3.0.2)\n",
            "d2l OK, numpy: 1.26.4\n"
          ]
        }
      ],
      "source": [
        "# keep pip up to date\n",
        "%pip install -U pip\n",
        "\n",
        "# install d2l but skip its (too strict) dependencies\n",
        "%pip install d2l==1.0.3 --no-deps\n",
        "\n",
        "# install dependencies compatible with Python 3.12\n",
        "# NumPy >= 1.26 has Py3.12 wheels\n",
        "%pip install \"numpy>=1.26,<2\" matplotlib pandas jupyter\n",
        "\n",
        "# Choose the right index for your runtime (CPU vs CUDA). Example for CUDA 12.4:\n",
        "# %pip install torch torchvision torchaudio --index-url https://download.pytorch.org/whl/cu124\n",
        "# Or CPU-only:\n",
        "%pip install torch torchvision torchaudio --index-url https://download.pytorch.org/whl/cpu\n",
        "\n",
        "import d2l, numpy as np\n",
        "print(\"d2l OK, numpy:\", np.__version__)"
      ]
    },
    {
      "cell_type": "markdown",
      "id": "0337f854",
      "metadata": {
        "origin_pos": 1,
        "id": "0337f854"
      },
      "source": [
        "# Softmax Regression Implementation from Scratch\n",
        ":label:`sec_softmax_scratch`\n",
        "\n",
        "Because softmax regression is so fundamental,\n",
        "we believe that you ought to know\n",
        "how to implement it yourself.\n",
        "Here, we limit ourselves to defining the\n",
        "softmax-specific aspects of the model\n",
        "and reuse the other components\n",
        "from our linear regression section,\n",
        "including the training loop.\n"
      ]
    },
    {
      "cell_type": "code",
      "execution_count": 2,
      "id": "27f90605",
      "metadata": {
        "execution": {
          "iopub.execute_input": "2023-08-18T19:40:38.020091Z",
          "iopub.status.busy": "2023-08-18T19:40:38.019758Z",
          "iopub.status.idle": "2023-08-18T19:40:41.731894Z",
          "shell.execute_reply": "2023-08-18T19:40:41.728859Z"
        },
        "origin_pos": 3,
        "tab": [
          "pytorch"
        ],
        "id": "27f90605"
      },
      "outputs": [],
      "source": [
        "import torch\n",
        "from d2l import torch as d2l"
      ]
    },
    {
      "cell_type": "markdown",
      "id": "7f7c0f8d",
      "metadata": {
        "origin_pos": 6,
        "id": "7f7c0f8d"
      },
      "source": [
        "## The Softmax\n",
        "\n",
        "Let's begin with the most important part:\n",
        "the mapping from scalars to probabilities.\n",
        "For a refresher, recall the operation of the sum operator\n",
        "along specific dimensions in a tensor,\n",
        "as discussed in :numref:`subsec_lin-alg-reduction`\n",
        "and :numref:`subsec_lin-alg-non-reduction`.\n",
        "[**Given a matrix `X` we can sum over all elements (by default) or only\n",
        "over elements in the same axis.**]\n",
        "The `axis` variable lets us compute row and column sums:\n"
      ]
    },
    {
      "cell_type": "code",
      "execution_count": 3,
      "id": "4721b51f",
      "metadata": {
        "execution": {
          "iopub.execute_input": "2023-08-18T19:40:41.736669Z",
          "iopub.status.busy": "2023-08-18T19:40:41.735590Z",
          "iopub.status.idle": "2023-08-18T19:40:41.768196Z",
          "shell.execute_reply": "2023-08-18T19:40:41.766964Z"
        },
        "origin_pos": 7,
        "tab": [
          "pytorch"
        ],
        "id": "4721b51f",
        "outputId": "cabdade9-390e-4114-8436-2d96870b522c",
        "colab": {
          "base_uri": "https://localhost:8080/"
        }
      },
      "outputs": [
        {
          "output_type": "execute_result",
          "data": {
            "text/plain": [
              "(tensor([[5., 7., 9.]]),\n",
              " tensor([[ 6.],\n",
              "         [15.]]))"
            ]
          },
          "metadata": {},
          "execution_count": 3
        }
      ],
      "source": [
        "X = torch.tensor([[1.0, 2.0, 3.0], [4.0, 5.0, 6.0]])\n",
        "X.sum(0, keepdims=True), X.sum(1, keepdims=True)"
      ]
    },
    {
      "cell_type": "markdown",
      "id": "e183bcdc",
      "metadata": {
        "origin_pos": 8,
        "id": "e183bcdc"
      },
      "source": [
        "Computing the softmax requires three steps:\n",
        "(i) exponentiation of each term;\n",
        "(ii) a sum over each row to compute the normalization constant for each example;\n",
        "(iii) division of each row by its normalization constant,\n",
        "ensuring that the result sums to 1:\n",
        "\n",
        "(**\n",
        "$$\\mathrm{softmax}(\\mathbf{X})_{ij} = \\frac{\\exp(\\mathbf{X}_{ij})}{\\sum_k \\exp(\\mathbf{X}_{ik})}.$$\n",
        "**)\n",
        "\n",
        "The (logarithm of the) denominator\n",
        "is called the (log) *partition function*.\n",
        "It was introduced in [statistical physics](https://en.wikipedia.org/wiki/Partition_function_(statistical_mechanics))\n",
        "to sum over all possible states in a thermodynamic ensemble.\n",
        "The implementation is straightforward:\n"
      ]
    },
    {
      "cell_type": "code",
      "execution_count": 4,
      "id": "d2f22e34",
      "metadata": {
        "execution": {
          "iopub.execute_input": "2023-08-18T19:40:41.772527Z",
          "iopub.status.busy": "2023-08-18T19:40:41.771945Z",
          "iopub.status.idle": "2023-08-18T19:40:41.777757Z",
          "shell.execute_reply": "2023-08-18T19:40:41.776558Z"
        },
        "origin_pos": 9,
        "tab": [
          "pytorch"
        ],
        "id": "d2f22e34"
      },
      "outputs": [],
      "source": [
        "def softmax(X):\n",
        "    X_exp = torch.exp(X)\n",
        "    partition = X_exp.sum(1, keepdims=True)\n",
        "    return X_exp / partition  # The broadcasting mechanism is applied here"
      ]
    },
    {
      "cell_type": "markdown",
      "id": "12b4d33d",
      "metadata": {
        "origin_pos": 10,
        "id": "12b4d33d"
      },
      "source": [
        "For any input `X`, [**we turn each element\n",
        "into a nonnegative number.\n",
        "Each row sums up to 1,**]\n",
        "as is required for a probability. Caution: the code above is *not* robust against very large or very small arguments. While it is sufficient to illustrate what is happening, you should *not* use this code verbatim for any serious purpose. Deep learning frameworks have such protections built in and we will be using the built-in softmax going forward.\n"
      ]
    },
    {
      "cell_type": "code",
      "execution_count": 5,
      "id": "90ec733c",
      "metadata": {
        "execution": {
          "iopub.execute_input": "2023-08-18T19:40:41.782237Z",
          "iopub.status.busy": "2023-08-18T19:40:41.781359Z",
          "iopub.status.idle": "2023-08-18T19:40:41.793051Z",
          "shell.execute_reply": "2023-08-18T19:40:41.792163Z"
        },
        "origin_pos": 12,
        "tab": [
          "pytorch"
        ],
        "id": "90ec733c",
        "outputId": "cfdc084f-227c-426a-ebff-3c0bcfd195b6",
        "colab": {
          "base_uri": "https://localhost:8080/"
        }
      },
      "outputs": [
        {
          "output_type": "execute_result",
          "data": {
            "text/plain": [
              "(tensor([[0.1809, 0.1531, 0.1810, 0.1713, 0.3137],\n",
              "         [0.1601, 0.2215, 0.1674, 0.2091, 0.2419]]),\n",
              " tensor([1.0000, 1.0000]))"
            ]
          },
          "metadata": {},
          "execution_count": 5
        }
      ],
      "source": [
        "X = torch.rand((2, 5))\n",
        "X_prob = softmax(X)\n",
        "X_prob, X_prob.sum(1)"
      ]
    },
    {
      "cell_type": "markdown",
      "id": "23d983d7",
      "metadata": {
        "origin_pos": 14,
        "id": "23d983d7"
      },
      "source": [
        "## The Model\n",
        "\n",
        "We now have everything that we need\n",
        "to implement [**the softmax regression model.**]\n",
        "As in our linear regression example,\n",
        "each instance will be represented\n",
        "by a fixed-length vector.\n",
        "Since the raw data here consists\n",
        "of $28 \\times 28$ pixel images,\n",
        "[**we flatten each image,\n",
        "treating them as vectors of length 784.**]\n",
        "In later chapters, we will introduce\n",
        "convolutional neural networks,\n",
        "which exploit the spatial structure\n",
        "in a more satisfying way.\n",
        "\n",
        "\n",
        "In softmax regression,\n",
        "the number of outputs from our network\n",
        "should be equal to the number of classes.\n",
        "(**Since our dataset has 10 classes,\n",
        "our network has an output dimension of 10.**)\n",
        "Consequently, our weights constitute a $784 \\times 10$ matrix\n",
        "plus a $1 \\times 10$ row vector for the biases.\n",
        "As with linear regression,\n",
        "we initialize the weights `W`\n",
        "with Gaussian noise.\n",
        "The biases are initialized as zeros.\n"
      ]
    },
    {
      "cell_type": "code",
      "execution_count": 6,
      "id": "b88679dc",
      "metadata": {
        "execution": {
          "iopub.execute_input": "2023-08-18T19:40:41.796788Z",
          "iopub.status.busy": "2023-08-18T19:40:41.796307Z",
          "iopub.status.idle": "2023-08-18T19:40:41.803043Z",
          "shell.execute_reply": "2023-08-18T19:40:41.802032Z"
        },
        "origin_pos": 16,
        "tab": [
          "pytorch"
        ],
        "id": "b88679dc"
      },
      "outputs": [],
      "source": [
        "class SoftmaxRegressionScratch(d2l.Classifier):\n",
        "    def __init__(self, num_inputs, num_outputs, lr, sigma=0.01):\n",
        "        super().__init__()\n",
        "        self.save_hyperparameters()\n",
        "        # mean, std, shape of output tensor\n",
        "        self.W = torch.normal(0, sigma, size=(num_inputs, num_outputs),\n",
        "                              requires_grad=True)\n",
        "        self.b = torch.zeros(num_outputs, requires_grad=True)\n",
        "\n",
        "    def parameters(self):\n",
        "        return [self.W, self.b]"
      ]
    },
    {
      "cell_type": "markdown",
      "id": "cffef3c8",
      "metadata": {
        "origin_pos": 19,
        "id": "cffef3c8"
      },
      "source": [
        "The code below defines how the network\n",
        "maps each input to an output.\n",
        "Note that we flatten each $28 \\times 28$ pixel image in the batch\n",
        "into a vector using `reshape`\n",
        "before passing the data through our model.\n"
      ]
    },
    {
      "cell_type": "code",
      "execution_count": 7,
      "id": "6525b147",
      "metadata": {
        "execution": {
          "iopub.execute_input": "2023-08-18T19:40:41.810424Z",
          "iopub.status.busy": "2023-08-18T19:40:41.807390Z",
          "iopub.status.idle": "2023-08-18T19:40:41.815642Z",
          "shell.execute_reply": "2023-08-18T19:40:41.814520Z"
        },
        "origin_pos": 20,
        "tab": [
          "pytorch"
        ],
        "id": "6525b147"
      },
      "outputs": [],
      "source": [
        "@d2l.add_to_class(SoftmaxRegressionScratch)\n",
        "def forward(self, X):\n",
        "    X = X.reshape((-1, self.W.shape[0])) # self.W.shape[0] = number of columns, and -1 means the number of rows from other elements\n",
        "    logits = torch.matmul(X,self.W) + self.b\n",
        "    return softmax_stable(logits)"
      ]
    },
    {
      "cell_type": "markdown",
      "id": "358c8926",
      "metadata": {
        "origin_pos": 21,
        "id": "358c8926"
      },
      "source": [
        "## The Cross-Entropy Loss\n",
        "\n",
        "Next we need to implement the cross-entropy loss function\n",
        "(introduced in :numref:`subsec_softmax-regression-loss-func`).\n",
        "This may be the most common loss function\n",
        "in all of deep learning.\n",
        "At the moment, applications of deep learning\n",
        "easily cast as classification problems\n",
        "far outnumber those better treated as regression problems.\n",
        "\n",
        "Recall that cross-entropy takes the negative log-likelihood\n",
        "of the predicted probability assigned to the true label.\n",
        "For efficiency we avoid Python for-loops and use indexing instead.\n",
        "In particular, the one-hot encoding in $\\mathbf{y}$\n",
        "allows us to select the matching terms in $\\hat{\\mathbf{y}}$.\n",
        "\n",
        "To see this in action we [**create sample data `y_hat`\n",
        "with 2 examples of predicted probabilities over 3 classes and their corresponding labels `y`.**]\n",
        "The correct labels are $0$ and $2$ respectively (i.e., the first and third class).\n",
        "[**Using `y` as the indices of the probabilities in `y_hat`,**]\n",
        "we can pick out terms efficiently.\n"
      ]
    },
    {
      "cell_type": "code",
      "execution_count": 8,
      "id": "be06d72f",
      "metadata": {
        "execution": {
          "iopub.execute_input": "2023-08-18T19:40:41.820273Z",
          "iopub.status.busy": "2023-08-18T19:40:41.819514Z",
          "iopub.status.idle": "2023-08-18T19:40:41.829451Z",
          "shell.execute_reply": "2023-08-18T19:40:41.828524Z"
        },
        "origin_pos": 22,
        "tab": [
          "pytorch"
        ],
        "id": "be06d72f",
        "outputId": "ee92a5e0-a7ba-4f8c-c333-4809861ef61d",
        "colab": {
          "base_uri": "https://localhost:8080/"
        }
      },
      "outputs": [
        {
          "output_type": "execute_result",
          "data": {
            "text/plain": [
              "tensor([0.1000, 0.5000])"
            ]
          },
          "metadata": {},
          "execution_count": 8
        }
      ],
      "source": [
        "y = torch.tensor([0, 2])\n",
        "y_hat = torch.tensor([[0.1, 0.3, 0.6], [0.3, 0.2, 0.5]])\n",
        "y_hat[[0, 1], y]"
      ]
    },
    {
      "cell_type": "markdown",
      "id": "100327e0",
      "metadata": {
        "origin_pos": 24,
        "tab": [
          "pytorch"
        ],
        "id": "100327e0"
      },
      "source": [
        "Now we can (**implement the cross-entropy loss function**) by averaging over the logarithms of the selected probabilities.\n"
      ]
    },
    {
      "cell_type": "code",
      "execution_count": 9,
      "id": "6f5696bf",
      "metadata": {
        "execution": {
          "iopub.execute_input": "2023-08-18T19:40:41.833839Z",
          "iopub.status.busy": "2023-08-18T19:40:41.832979Z",
          "iopub.status.idle": "2023-08-18T19:40:41.846258Z",
          "shell.execute_reply": "2023-08-18T19:40:41.845315Z"
        },
        "origin_pos": 26,
        "tab": [
          "pytorch"
        ],
        "id": "6f5696bf",
        "outputId": "e0f22727-6239-49c4-b866-4e54f345753c",
        "colab": {
          "base_uri": "https://localhost:8080/"
        }
      },
      "outputs": [
        {
          "output_type": "execute_result",
          "data": {
            "text/plain": [
              "tensor(1.4979)"
            ]
          },
          "metadata": {},
          "execution_count": 9
        }
      ],
      "source": [
        "def cross_entropy(y_hat, y):\n",
        "    return -torch.log(y_hat[list(range(len(y_hat))), y]).mean()\n",
        "\n",
        "cross_entropy(y_hat, y)"
      ]
    },
    {
      "cell_type": "code",
      "execution_count": 10,
      "id": "0d97074e",
      "metadata": {
        "execution": {
          "iopub.execute_input": "2023-08-18T19:40:41.850484Z",
          "iopub.status.busy": "2023-08-18T19:40:41.849744Z",
          "iopub.status.idle": "2023-08-18T19:40:41.854383Z",
          "shell.execute_reply": "2023-08-18T19:40:41.853500Z"
        },
        "origin_pos": 28,
        "tab": [
          "pytorch"
        ],
        "id": "0d97074e"
      },
      "outputs": [],
      "source": [
        "@d2l.add_to_class(SoftmaxRegressionScratch)\n",
        "def loss(self, y_hat, y):\n",
        "    return cross_entropy(y_hat, y)"
      ]
    },
    {
      "cell_type": "markdown",
      "id": "133145ec",
      "metadata": {
        "origin_pos": 30,
        "id": "133145ec"
      },
      "source": [
        "## Training\n",
        "\n",
        "We reuse the `fit` method defined in :numref:`sec_linear_scratch` to [**train the model with 10 epochs.**]\n",
        "Note that the number of epochs (`max_epochs`),\n",
        "the minibatch size (`batch_size`),\n",
        "and learning rate (`lr`)\n",
        "are adjustable hyperparameters.\n",
        "That means that while these values are not\n",
        "learned during our primary training loop,\n",
        "they still influence the performance\n",
        "of our model, both vis-à-vis training\n",
        "and generalization performance.\n",
        "In practice you will want to choose these values\n",
        "based on the *validation* split of the data\n",
        "and then, ultimately, to evaluate your final model\n",
        "on the *test* split.\n",
        "As discussed in :numref:`subsec_generalization-model-selection`,\n",
        "we will regard the test data of Fashion-MNIST\n",
        "as the validation set, thus\n",
        "reporting validation loss and validation accuracy\n",
        "on this split.\n"
      ]
    },
    {
      "cell_type": "code",
      "execution_count": 11,
      "id": "0fed2d06",
      "metadata": {
        "execution": {
          "iopub.execute_input": "2023-08-18T19:40:41.860751Z",
          "iopub.status.busy": "2023-08-18T19:40:41.859826Z",
          "iopub.status.idle": "2023-08-18T19:41:38.026253Z",
          "shell.execute_reply": "2023-08-18T19:41:38.024988Z"
        },
        "origin_pos": 31,
        "tab": [
          "pytorch"
        ],
        "id": "0fed2d06",
        "outputId": "7d6c3d72-514b-4743-c60f-78da6398f7aa",
        "colab": {
          "base_uri": "https://localhost:8080/",
          "height": 421
        }
      },
      "outputs": [
        {
          "output_type": "stream",
          "name": "stderr",
          "text": [
            "100%|██████████| 26.4M/26.4M [00:01<00:00, 13.5MB/s]\n",
            "100%|██████████| 29.5k/29.5k [00:00<00:00, 229kB/s]\n",
            "100%|██████████| 4.42M/4.42M [00:01<00:00, 4.29MB/s]\n",
            "100%|██████████| 5.15k/5.15k [00:00<00:00, 11.9MB/s]\n",
            "/usr/local/lib/python3.12/dist-packages/torch/utils/data/dataloader.py:627: UserWarning: This DataLoader will create 4 worker processes in total. Our suggested max number of worker in current system is 2, which is smaller than what this DataLoader is going to create. Please be aware that excessive worker creation might get DataLoader running slow or even freeze, lower the worker number to avoid potential slowness/freeze if necessary.\n",
            "  warnings.warn(\n"
          ]
        },
        {
          "output_type": "error",
          "ename": "RuntimeError",
          "evalue": "shape '[-1, 100]' is invalid for input of size 200704",
          "traceback": [
            "\u001b[0;31m---------------------------------------------------------------------------\u001b[0m",
            "\u001b[0;31mRuntimeError\u001b[0m                              Traceback (most recent call last)",
            "\u001b[0;32m/tmp/ipython-input-1147749942.py\u001b[0m in \u001b[0;36m<cell line: 0>\u001b[0;34m()\u001b[0m\n\u001b[1;32m      3\u001b[0m \u001b[0mmodel\u001b[0m \u001b[0;34m=\u001b[0m \u001b[0mSoftmaxRegressionScratch\u001b[0m\u001b[0;34m(\u001b[0m\u001b[0mnum_inputs\u001b[0m\u001b[0;34m=\u001b[0m\u001b[0;36m100\u001b[0m\u001b[0;34m,\u001b[0m \u001b[0mnum_outputs\u001b[0m\u001b[0;34m=\u001b[0m\u001b[0;36m10\u001b[0m\u001b[0;34m,\u001b[0m \u001b[0mlr\u001b[0m\u001b[0;34m=\u001b[0m\u001b[0;36m0.1\u001b[0m\u001b[0;34m)\u001b[0m\u001b[0;34m\u001b[0m\u001b[0;34m\u001b[0m\u001b[0m\n\u001b[1;32m      4\u001b[0m \u001b[0mtrainer\u001b[0m \u001b[0;34m=\u001b[0m \u001b[0md2l\u001b[0m\u001b[0;34m.\u001b[0m\u001b[0mTrainer\u001b[0m\u001b[0;34m(\u001b[0m\u001b[0mmax_epochs\u001b[0m\u001b[0;34m=\u001b[0m\u001b[0;36m10\u001b[0m\u001b[0;34m)\u001b[0m\u001b[0;34m\u001b[0m\u001b[0;34m\u001b[0m\u001b[0m\n\u001b[0;32m----> 5\u001b[0;31m \u001b[0mtrainer\u001b[0m\u001b[0;34m.\u001b[0m\u001b[0mfit\u001b[0m\u001b[0;34m(\u001b[0m\u001b[0mmodel\u001b[0m\u001b[0;34m,\u001b[0m \u001b[0mdata\u001b[0m\u001b[0;34m)\u001b[0m\u001b[0;34m\u001b[0m\u001b[0;34m\u001b[0m\u001b[0m\n\u001b[0m",
            "\u001b[0;32m/usr/local/lib/python3.12/dist-packages/d2l/torch.py\u001b[0m in \u001b[0;36mfit\u001b[0;34m(self, model, data)\u001b[0m\n\u001b[1;32m    283\u001b[0m         \u001b[0mself\u001b[0m\u001b[0;34m.\u001b[0m\u001b[0mval_batch_idx\u001b[0m \u001b[0;34m=\u001b[0m \u001b[0;36m0\u001b[0m\u001b[0;34m\u001b[0m\u001b[0;34m\u001b[0m\u001b[0m\n\u001b[1;32m    284\u001b[0m         \u001b[0;32mfor\u001b[0m \u001b[0mself\u001b[0m\u001b[0;34m.\u001b[0m\u001b[0mepoch\u001b[0m \u001b[0;32min\u001b[0m \u001b[0mrange\u001b[0m\u001b[0;34m(\u001b[0m\u001b[0mself\u001b[0m\u001b[0;34m.\u001b[0m\u001b[0mmax_epochs\u001b[0m\u001b[0;34m)\u001b[0m\u001b[0;34m:\u001b[0m\u001b[0;34m\u001b[0m\u001b[0;34m\u001b[0m\u001b[0m\n\u001b[0;32m--> 285\u001b[0;31m             \u001b[0mself\u001b[0m\u001b[0;34m.\u001b[0m\u001b[0mfit_epoch\u001b[0m\u001b[0;34m(\u001b[0m\u001b[0;34m)\u001b[0m\u001b[0;34m\u001b[0m\u001b[0;34m\u001b[0m\u001b[0m\n\u001b[0m\u001b[1;32m    286\u001b[0m \u001b[0;34m\u001b[0m\u001b[0m\n\u001b[1;32m    287\u001b[0m     \u001b[0;32mdef\u001b[0m \u001b[0mfit_epoch\u001b[0m\u001b[0;34m(\u001b[0m\u001b[0mself\u001b[0m\u001b[0;34m)\u001b[0m\u001b[0;34m:\u001b[0m\u001b[0;34m\u001b[0m\u001b[0;34m\u001b[0m\u001b[0m\n",
            "\u001b[0;32m/usr/local/lib/python3.12/dist-packages/d2l/torch.py\u001b[0m in \u001b[0;36mfit_epoch\u001b[0;34m(self)\u001b[0m\n\u001b[1;32m    296\u001b[0m         \u001b[0mself\u001b[0m\u001b[0;34m.\u001b[0m\u001b[0mmodel\u001b[0m\u001b[0;34m.\u001b[0m\u001b[0mtrain\u001b[0m\u001b[0;34m(\u001b[0m\u001b[0;34m)\u001b[0m\u001b[0;34m\u001b[0m\u001b[0;34m\u001b[0m\u001b[0m\n\u001b[1;32m    297\u001b[0m         \u001b[0;32mfor\u001b[0m \u001b[0mbatch\u001b[0m \u001b[0;32min\u001b[0m \u001b[0mself\u001b[0m\u001b[0;34m.\u001b[0m\u001b[0mtrain_dataloader\u001b[0m\u001b[0;34m:\u001b[0m\u001b[0;34m\u001b[0m\u001b[0;34m\u001b[0m\u001b[0m\n\u001b[0;32m--> 298\u001b[0;31m             \u001b[0mloss\u001b[0m \u001b[0;34m=\u001b[0m \u001b[0mself\u001b[0m\u001b[0;34m.\u001b[0m\u001b[0mmodel\u001b[0m\u001b[0;34m.\u001b[0m\u001b[0mtraining_step\u001b[0m\u001b[0;34m(\u001b[0m\u001b[0mself\u001b[0m\u001b[0;34m.\u001b[0m\u001b[0mprepare_batch\u001b[0m\u001b[0;34m(\u001b[0m\u001b[0mbatch\u001b[0m\u001b[0;34m)\u001b[0m\u001b[0;34m)\u001b[0m\u001b[0;34m\u001b[0m\u001b[0;34m\u001b[0m\u001b[0m\n\u001b[0m\u001b[1;32m    299\u001b[0m             \u001b[0mself\u001b[0m\u001b[0;34m.\u001b[0m\u001b[0moptim\u001b[0m\u001b[0;34m.\u001b[0m\u001b[0mzero_grad\u001b[0m\u001b[0;34m(\u001b[0m\u001b[0;34m)\u001b[0m\u001b[0;34m\u001b[0m\u001b[0;34m\u001b[0m\u001b[0m\n\u001b[1;32m    300\u001b[0m             \u001b[0;32mwith\u001b[0m \u001b[0mtorch\u001b[0m\u001b[0;34m.\u001b[0m\u001b[0mno_grad\u001b[0m\u001b[0;34m(\u001b[0m\u001b[0;34m)\u001b[0m\u001b[0;34m:\u001b[0m\u001b[0;34m\u001b[0m\u001b[0;34m\u001b[0m\u001b[0m\n",
            "\u001b[0;32m/usr/local/lib/python3.12/dist-packages/d2l/torch.py\u001b[0m in \u001b[0;36mtraining_step\u001b[0;34m(self, batch)\u001b[0m\n\u001b[1;32m    211\u001b[0m \u001b[0;34m\u001b[0m\u001b[0m\n\u001b[1;32m    212\u001b[0m     \u001b[0;32mdef\u001b[0m \u001b[0mtraining_step\u001b[0m\u001b[0;34m(\u001b[0m\u001b[0mself\u001b[0m\u001b[0;34m,\u001b[0m \u001b[0mbatch\u001b[0m\u001b[0;34m)\u001b[0m\u001b[0;34m:\u001b[0m\u001b[0;34m\u001b[0m\u001b[0;34m\u001b[0m\u001b[0m\n\u001b[0;32m--> 213\u001b[0;31m         \u001b[0ml\u001b[0m \u001b[0;34m=\u001b[0m \u001b[0mself\u001b[0m\u001b[0;34m.\u001b[0m\u001b[0mloss\u001b[0m\u001b[0;34m(\u001b[0m\u001b[0mself\u001b[0m\u001b[0;34m(\u001b[0m\u001b[0;34m*\u001b[0m\u001b[0mbatch\u001b[0m\u001b[0;34m[\u001b[0m\u001b[0;34m:\u001b[0m\u001b[0;34m-\u001b[0m\u001b[0;36m1\u001b[0m\u001b[0;34m]\u001b[0m\u001b[0;34m)\u001b[0m\u001b[0;34m,\u001b[0m \u001b[0mbatch\u001b[0m\u001b[0;34m[\u001b[0m\u001b[0;34m-\u001b[0m\u001b[0;36m1\u001b[0m\u001b[0;34m]\u001b[0m\u001b[0;34m)\u001b[0m\u001b[0;34m\u001b[0m\u001b[0;34m\u001b[0m\u001b[0m\n\u001b[0m\u001b[1;32m    214\u001b[0m         \u001b[0mself\u001b[0m\u001b[0;34m.\u001b[0m\u001b[0mplot\u001b[0m\u001b[0;34m(\u001b[0m\u001b[0;34m'loss'\u001b[0m\u001b[0;34m,\u001b[0m \u001b[0ml\u001b[0m\u001b[0;34m,\u001b[0m \u001b[0mtrain\u001b[0m\u001b[0;34m=\u001b[0m\u001b[0;32mTrue\u001b[0m\u001b[0;34m)\u001b[0m\u001b[0;34m\u001b[0m\u001b[0;34m\u001b[0m\u001b[0m\n\u001b[1;32m    215\u001b[0m         \u001b[0;32mreturn\u001b[0m \u001b[0ml\u001b[0m\u001b[0;34m\u001b[0m\u001b[0;34m\u001b[0m\u001b[0m\n",
            "\u001b[0;32m/usr/local/lib/python3.12/dist-packages/torch/nn/modules/module.py\u001b[0m in \u001b[0;36m_wrapped_call_impl\u001b[0;34m(self, *args, **kwargs)\u001b[0m\n\u001b[1;32m   1771\u001b[0m             \u001b[0;32mreturn\u001b[0m \u001b[0mself\u001b[0m\u001b[0;34m.\u001b[0m\u001b[0m_compiled_call_impl\u001b[0m\u001b[0;34m(\u001b[0m\u001b[0;34m*\u001b[0m\u001b[0margs\u001b[0m\u001b[0;34m,\u001b[0m \u001b[0;34m**\u001b[0m\u001b[0mkwargs\u001b[0m\u001b[0;34m)\u001b[0m  \u001b[0;31m# type: ignore[misc]\u001b[0m\u001b[0;34m\u001b[0m\u001b[0;34m\u001b[0m\u001b[0m\n\u001b[1;32m   1772\u001b[0m         \u001b[0;32melse\u001b[0m\u001b[0;34m:\u001b[0m\u001b[0;34m\u001b[0m\u001b[0;34m\u001b[0m\u001b[0m\n\u001b[0;32m-> 1773\u001b[0;31m             \u001b[0;32mreturn\u001b[0m \u001b[0mself\u001b[0m\u001b[0;34m.\u001b[0m\u001b[0m_call_impl\u001b[0m\u001b[0;34m(\u001b[0m\u001b[0;34m*\u001b[0m\u001b[0margs\u001b[0m\u001b[0;34m,\u001b[0m \u001b[0;34m**\u001b[0m\u001b[0mkwargs\u001b[0m\u001b[0;34m)\u001b[0m\u001b[0;34m\u001b[0m\u001b[0;34m\u001b[0m\u001b[0m\n\u001b[0m\u001b[1;32m   1774\u001b[0m \u001b[0;34m\u001b[0m\u001b[0m\n\u001b[1;32m   1775\u001b[0m     \u001b[0;31m# torchrec tests the code consistency with the following code\u001b[0m\u001b[0;34m\u001b[0m\u001b[0;34m\u001b[0m\u001b[0m\n",
            "\u001b[0;32m/usr/local/lib/python3.12/dist-packages/torch/nn/modules/module.py\u001b[0m in \u001b[0;36m_call_impl\u001b[0;34m(self, *args, **kwargs)\u001b[0m\n\u001b[1;32m   1782\u001b[0m                 \u001b[0;32mor\u001b[0m \u001b[0m_global_backward_pre_hooks\u001b[0m \u001b[0;32mor\u001b[0m \u001b[0m_global_backward_hooks\u001b[0m\u001b[0;34m\u001b[0m\u001b[0;34m\u001b[0m\u001b[0m\n\u001b[1;32m   1783\u001b[0m                 or _global_forward_hooks or _global_forward_pre_hooks):\n\u001b[0;32m-> 1784\u001b[0;31m             \u001b[0;32mreturn\u001b[0m \u001b[0mforward_call\u001b[0m\u001b[0;34m(\u001b[0m\u001b[0;34m*\u001b[0m\u001b[0margs\u001b[0m\u001b[0;34m,\u001b[0m \u001b[0;34m**\u001b[0m\u001b[0mkwargs\u001b[0m\u001b[0;34m)\u001b[0m\u001b[0;34m\u001b[0m\u001b[0;34m\u001b[0m\u001b[0m\n\u001b[0m\u001b[1;32m   1785\u001b[0m \u001b[0;34m\u001b[0m\u001b[0m\n\u001b[1;32m   1786\u001b[0m         \u001b[0mresult\u001b[0m \u001b[0;34m=\u001b[0m \u001b[0;32mNone\u001b[0m\u001b[0;34m\u001b[0m\u001b[0;34m\u001b[0m\u001b[0m\n",
            "\u001b[0;32m/tmp/ipython-input-2376394907.py\u001b[0m in \u001b[0;36mforward\u001b[0;34m(self, X)\u001b[0m\n\u001b[1;32m      1\u001b[0m \u001b[0;34m@\u001b[0m\u001b[0md2l\u001b[0m\u001b[0;34m.\u001b[0m\u001b[0madd_to_class\u001b[0m\u001b[0;34m(\u001b[0m\u001b[0mSoftmaxRegressionScratch\u001b[0m\u001b[0;34m)\u001b[0m\u001b[0;34m\u001b[0m\u001b[0;34m\u001b[0m\u001b[0m\n\u001b[1;32m      2\u001b[0m \u001b[0;32mdef\u001b[0m \u001b[0mforward\u001b[0m\u001b[0;34m(\u001b[0m\u001b[0mself\u001b[0m\u001b[0;34m,\u001b[0m \u001b[0mX\u001b[0m\u001b[0;34m)\u001b[0m\u001b[0;34m:\u001b[0m\u001b[0;34m\u001b[0m\u001b[0;34m\u001b[0m\u001b[0m\n\u001b[0;32m----> 3\u001b[0;31m     \u001b[0mX\u001b[0m \u001b[0;34m=\u001b[0m \u001b[0mX\u001b[0m\u001b[0;34m.\u001b[0m\u001b[0mreshape\u001b[0m\u001b[0;34m(\u001b[0m\u001b[0;34m(\u001b[0m\u001b[0;34m-\u001b[0m\u001b[0;36m1\u001b[0m\u001b[0;34m,\u001b[0m \u001b[0mself\u001b[0m\u001b[0;34m.\u001b[0m\u001b[0mW\u001b[0m\u001b[0;34m.\u001b[0m\u001b[0mshape\u001b[0m\u001b[0;34m[\u001b[0m\u001b[0;36m0\u001b[0m\u001b[0;34m]\u001b[0m\u001b[0;34m)\u001b[0m\u001b[0;34m)\u001b[0m \u001b[0;31m# self.W.shape[0] = number of columns, and -1 means the number of rows from other elements\u001b[0m\u001b[0;34m\u001b[0m\u001b[0;34m\u001b[0m\u001b[0m\n\u001b[0m\u001b[1;32m      4\u001b[0m     \u001b[0;32mreturn\u001b[0m \u001b[0msoftmax\u001b[0m\u001b[0;34m(\u001b[0m\u001b[0mtorch\u001b[0m\u001b[0;34m.\u001b[0m\u001b[0mmatmul\u001b[0m\u001b[0;34m(\u001b[0m\u001b[0mX\u001b[0m\u001b[0;34m,\u001b[0m \u001b[0mself\u001b[0m\u001b[0;34m.\u001b[0m\u001b[0mW\u001b[0m\u001b[0;34m)\u001b[0m \u001b[0;34m+\u001b[0m \u001b[0mself\u001b[0m\u001b[0;34m.\u001b[0m\u001b[0mb\u001b[0m\u001b[0;34m)\u001b[0m\u001b[0;34m\u001b[0m\u001b[0;34m\u001b[0m\u001b[0m\n",
            "\u001b[0;31mRuntimeError\u001b[0m: shape '[-1, 100]' is invalid for input of size 200704"
          ]
        }
      ],
      "source": [
        "data = d2l.FashionMNIST(batch_size=256)\n",
        "model = SoftmaxRegressionScratch(num_inputs=784, num_outputs=10, lr=0.1)\n",
        "trainer = d2l.Trainer(max_epochs=10)\n",
        "trainer.fit(model, data)"
      ]
    },
    {
      "cell_type": "markdown",
      "id": "c01a1d3e",
      "metadata": {
        "origin_pos": 32,
        "id": "c01a1d3e"
      },
      "source": [
        "## Prediction\n",
        "\n",
        "Now that training is complete,\n",
        "our model is ready to [**classify some images.**]\n"
      ]
    },
    {
      "cell_type": "code",
      "execution_count": null,
      "id": "ea0b6dd0",
      "metadata": {
        "execution": {
          "iopub.execute_input": "2023-08-18T19:41:38.030970Z",
          "iopub.status.busy": "2023-08-18T19:41:38.030251Z",
          "iopub.status.idle": "2023-08-18T19:41:38.207822Z",
          "shell.execute_reply": "2023-08-18T19:41:38.206713Z"
        },
        "origin_pos": 33,
        "tab": [
          "pytorch"
        ],
        "id": "ea0b6dd0",
        "outputId": "5a9d7a21-6d9e-4045-efa0-90acdc4af203",
        "colab": {
          "base_uri": "https://localhost:8080/"
        }
      },
      "outputs": [
        {
          "output_type": "execute_result",
          "data": {
            "text/plain": [
              "torch.Size([256])"
            ]
          },
          "metadata": {},
          "execution_count": 12
        }
      ],
      "source": [
        "X, y = next(iter(data.val_dataloader()))\n",
        "preds = model(X).argmax(axis=1)\n",
        "preds.shape"
      ]
    },
    {
      "cell_type": "markdown",
      "id": "7a160103",
      "metadata": {
        "origin_pos": 34,
        "id": "7a160103"
      },
      "source": [
        "We are more interested in the images we label *incorrectly*. We visualize them by\n",
        "comparing their actual labels\n",
        "(first line of text output)\n",
        "with the predictions from the model\n",
        "(second line of text output).\n"
      ]
    },
    {
      "cell_type": "code",
      "execution_count": null,
      "id": "41ef8291",
      "metadata": {
        "execution": {
          "iopub.execute_input": "2023-08-18T19:41:38.211804Z",
          "iopub.status.busy": "2023-08-18T19:41:38.211212Z",
          "iopub.status.idle": "2023-08-18T19:41:38.569431Z",
          "shell.execute_reply": "2023-08-18T19:41:38.568219Z"
        },
        "origin_pos": 35,
        "tab": [
          "pytorch"
        ],
        "id": "41ef8291",
        "outputId": "ee4f0d31-801f-49e4-e0db-45e3f244a221",
        "colab": {
          "base_uri": "https://localhost:8080/",
          "height": 173
        }
      },
      "outputs": [
        {
          "output_type": "display_data",
          "data": {
            "text/plain": [
              "<Figure size 1200x150 with 8 Axes>"
            ],
            "image/svg+xml": "<?xml version=\"1.0\" encoding=\"utf-8\" standalone=\"no\"?>\n<!DOCTYPE svg PUBLIC \"-//W3C//DTD SVG 1.1//EN\"\n  \"http://www.w3.org/Graphics/SVG/1.1/DTD/svg11.dtd\">\n<svg xmlns:xlink=\"http://www.w3.org/1999/xlink\" width=\"684pt\" height=\"114.189543pt\" viewBox=\"0 0 684 114.189543\" xmlns=\"http://www.w3.org/2000/svg\" version=\"1.1\">\n <metadata>\n  <rdf:RDF xmlns:dc=\"http://purl.org/dc/elements/1.1/\" xmlns:cc=\"http://creativecommons.org/ns#\" xmlns:rdf=\"http://www.w3.org/1999/02/22-rdf-syntax-ns#\">\n   <cc:Work>\n    <dc:type rdf:resource=\"http://purl.org/dc/dcmitype/StillImage\"/>\n    <dc:date>2025-08-27T16:11:35.977381</dc:date>\n    <dc:format>image/svg+xml</dc:format>\n    <dc:creator>\n     <cc:Agent>\n      <dc:title>Matplotlib v3.10.0, https://matplotlib.org/</dc:title>\n     </cc:Agent>\n    </dc:creator>\n   </cc:Work>\n  </rdf:RDF>\n </metadata>\n <defs>\n  <style type=\"text/css\">*{stroke-linejoin: round; stroke-linecap: butt}</style>\n </defs>\n <g id=\"figure_1\">\n  <g id=\"patch_1\">\n   <path d=\"M 0 114.189543 \nL 684 114.189543 \nL 684 -0 \nL 0 -0 \nz\n\" style=\"fill: #ffffff\"/>\n  </g>\n  <g id=\"axes_1\">\n   <g id=\"patch_2\">\n    <path d=\"M 7.2 106.989543 \nL 78.434043 106.989543 \nL 78.434043 35.7555 \nL 7.2 35.7555 \nz\n\" style=\"fill: #ffffff\"/>\n   </g>\n   <g clip-path=\"url(#p5d2ebe5450)\">\n    <image xlink:href=\"data:image/png;base64,\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\" id=\"image7267956598\" transform=\"scale(1 -1) translate(0 -71.28)\" x=\"7.2\" y=\"-35.709543\" width=\"71.28\" height=\"71.28\"/>\n   </g>\n   <g id=\"patch_3\">\n    <path d=\"M 7.2 106.989543 \nL 7.2 35.7555 \n\" style=\"fill: none; stroke: #000000; stroke-width: 0.8; stroke-linejoin: miter; stroke-linecap: square\"/>\n   </g>\n   <g id=\"patch_4\">\n    <path d=\"M 78.434043 106.989543 \nL 78.434043 35.7555 \n\" style=\"fill: none; stroke: #000000; stroke-width: 0.8; stroke-linejoin: miter; stroke-linecap: square\"/>\n   </g>\n   <g id=\"patch_5\">\n    <path d=\"M 7.2 106.989543 \nL 78.434043 106.989543 \n\" style=\"fill: none; stroke: #000000; stroke-width: 0.8; stroke-linejoin: miter; stroke-linecap: square\"/>\n   </g>\n   <g id=\"patch_6\">\n    <path d=\"M 7.2 35.7555 \nL 78.434043 35.7555 \n\" style=\"fill: none; stroke: #000000; stroke-width: 0.8; stroke-linejoin: miter; stroke-linecap: square\"/>\n   </g>\n   <g id=\"text_1\">\n    <!-- coat -->\n    <g transform=\"translate(29.817646 16.318125) scale(0.12 -0.12)\">\n     <defs>\n      <path id=\"DejaVuSans-63\" d=\"M 3122 3366 \nL 3122 2828 \nQ 2878 2963 2633 3030 \nQ 2388 3097 2138 3097 \nQ 1578 3097 1268 2742 \nQ 959 2388 959 1747 \nQ 959 1106 1268 751 \nQ 1578 397 2138 397 \nQ 2388 397 2633 464 \nQ 2878 531 3122 666 \nL 3122 134 \nQ 2881 22 2623 -34 \nQ 2366 -91 2075 -91 \nQ 1284 -91 818 406 \nQ 353 903 353 1747 \nQ 353 2603 823 3093 \nQ 1294 3584 2113 3584 \nQ 2378 3584 2631 3529 \nQ 2884 3475 3122 3366 \nz\n\" transform=\"scale(0.015625)\"/>\n      <path id=\"DejaVuSans-6f\" d=\"M 1959 3097 \nQ 1497 3097 1228 2736 \nQ 959 2375 959 1747 \nQ 959 1119 1226 758 \nQ 1494 397 1959 397 \nQ 2419 397 2687 759 \nQ 2956 1122 2956 1747 \nQ 2956 2369 2687 2733 \nQ 2419 3097 1959 3097 \nz\nM 1959 3584 \nQ 2709 3584 3137 3096 \nQ 3566 2609 3566 1747 \nQ 3566 888 3137 398 \nQ 2709 -91 1959 -91 \nQ 1206 -91 779 398 \nQ 353 888 353 1747 \nQ 353 2609 779 3096 \nQ 1206 3584 1959 3584 \nz\n\" transform=\"scale(0.015625)\"/>\n      <path id=\"DejaVuSans-61\" d=\"M 2194 1759 \nQ 1497 1759 1228 1600 \nQ 959 1441 959 1056 \nQ 959 750 1161 570 \nQ 1363 391 1709 391 \nQ 2188 391 2477 730 \nQ 2766 1069 2766 1631 \nL 2766 1759 \nL 2194 1759 \nz\nM 3341 1997 \nL 3341 0 \nL 2766 0 \nL 2766 531 \nQ 2569 213 2275 61 \nQ 1981 -91 1556 -91 \nQ 1019 -91 701 211 \nQ 384 513 384 1019 \nQ 384 1609 779 1909 \nQ 1175 2209 1959 2209 \nL 2766 2209 \nL 2766 2266 \nQ 2766 2663 2505 2880 \nQ 2244 3097 1772 3097 \nQ 1472 3097 1187 3025 \nQ 903 2953 641 2809 \nL 641 3341 \nQ 956 3463 1253 3523 \nQ 1550 3584 1831 3584 \nQ 2591 3584 2966 3190 \nQ 3341 2797 3341 1997 \nz\n\" transform=\"scale(0.015625)\"/>\n      <path id=\"DejaVuSans-74\" d=\"M 1172 4494 \nL 1172 3500 \nL 2356 3500 \nL 2356 3053 \nL 1172 3053 \nL 1172 1153 \nQ 1172 725 1289 603 \nQ 1406 481 1766 481 \nL 2356 481 \nL 2356 0 \nL 1766 0 \nQ 1100 0 847 248 \nQ 594 497 594 1153 \nL 594 3053 \nL 172 3053 \nL 172 3500 \nL 594 3500 \nL 594 4494 \nL 1172 4494 \nz\n\" transform=\"scale(0.015625)\"/>\n     </defs>\n     <use xlink:href=\"#DejaVuSans-63\"/>\n     <use xlink:href=\"#DejaVuSans-6f\" transform=\"translate(54.980469 0)\"/>\n     <use xlink:href=\"#DejaVuSans-61\" transform=\"translate(116.162109 0)\"/>\n     <use xlink:href=\"#DejaVuSans-74\" transform=\"translate(177.441406 0)\"/>\n    </g>\n    <!-- pullover -->\n    <g transform=\"translate(18.490771 29.7555) scale(0.12 -0.12)\">\n     <defs>\n      <path id=\"DejaVuSans-70\" d=\"M 1159 525 \nL 1159 -1331 \nL 581 -1331 \nL 581 3500 \nL 1159 3500 \nL 1159 2969 \nQ 1341 3281 1617 3432 \nQ 1894 3584 2278 3584 \nQ 2916 3584 3314 3078 \nQ 3713 2572 3713 1747 \nQ 3713 922 3314 415 \nQ 2916 -91 2278 -91 \nQ 1894 -91 1617 61 \nQ 1341 213 1159 525 \nz\nM 3116 1747 \nQ 3116 2381 2855 2742 \nQ 2594 3103 2138 3103 \nQ 1681 3103 1420 2742 \nQ 1159 2381 1159 1747 \nQ 1159 1113 1420 752 \nQ 1681 391 2138 391 \nQ 2594 391 2855 752 \nQ 3116 1113 3116 1747 \nz\n\" transform=\"scale(0.015625)\"/>\n      <path id=\"DejaVuSans-75\" d=\"M 544 1381 \nL 544 3500 \nL 1119 3500 \nL 1119 1403 \nQ 1119 906 1312 657 \nQ 1506 409 1894 409 \nQ 2359 409 2629 706 \nQ 2900 1003 2900 1516 \nL 2900 3500 \nL 3475 3500 \nL 3475 0 \nL 2900 0 \nL 2900 538 \nQ 2691 219 2414 64 \nQ 2138 -91 1772 -91 \nQ 1169 -91 856 284 \nQ 544 659 544 1381 \nz\nM 1991 3584 \nL 1991 3584 \nz\n\" transform=\"scale(0.015625)\"/>\n      <path id=\"DejaVuSans-6c\" d=\"M 603 4863 \nL 1178 4863 \nL 1178 0 \nL 603 0 \nL 603 4863 \nz\n\" transform=\"scale(0.015625)\"/>\n      <path id=\"DejaVuSans-76\" d=\"M 191 3500 \nL 800 3500 \nL 1894 563 \nL 2988 3500 \nL 3597 3500 \nL 2284 0 \nL 1503 0 \nL 191 3500 \nz\n\" transform=\"scale(0.015625)\"/>\n      <path id=\"DejaVuSans-65\" d=\"M 3597 1894 \nL 3597 1613 \nL 953 1613 \nQ 991 1019 1311 708 \nQ 1631 397 2203 397 \nQ 2534 397 2845 478 \nQ 3156 559 3463 722 \nL 3463 178 \nQ 3153 47 2828 -22 \nQ 2503 -91 2169 -91 \nQ 1331 -91 842 396 \nQ 353 884 353 1716 \nQ 353 2575 817 3079 \nQ 1281 3584 2069 3584 \nQ 2775 3584 3186 3129 \nQ 3597 2675 3597 1894 \nz\nM 3022 2063 \nQ 3016 2534 2758 2815 \nQ 2500 3097 2075 3097 \nQ 1594 3097 1305 2825 \nQ 1016 2553 972 2059 \nL 3022 2063 \nz\n\" transform=\"scale(0.015625)\"/>\n      <path id=\"DejaVuSans-72\" d=\"M 2631 2963 \nQ 2534 3019 2420 3045 \nQ 2306 3072 2169 3072 \nQ 1681 3072 1420 2755 \nQ 1159 2438 1159 1844 \nL 1159 0 \nL 581 0 \nL 581 3500 \nL 1159 3500 \nL 1159 2956 \nQ 1341 3275 1631 3429 \nQ 1922 3584 2338 3584 \nQ 2397 3584 2469 3576 \nQ 2541 3569 2628 3553 \nL 2631 2963 \nz\n\" transform=\"scale(0.015625)\"/>\n     </defs>\n     <use xlink:href=\"#DejaVuSans-70\"/>\n     <use xlink:href=\"#DejaVuSans-75\" transform=\"translate(63.476562 0)\"/>\n     <use xlink:href=\"#DejaVuSans-6c\" transform=\"translate(126.855469 0)\"/>\n     <use xlink:href=\"#DejaVuSans-6c\" transform=\"translate(154.638672 0)\"/>\n     <use xlink:href=\"#DejaVuSans-6f\" transform=\"translate(182.421875 0)\"/>\n     <use xlink:href=\"#DejaVuSans-76\" transform=\"translate(243.603516 0)\"/>\n     <use xlink:href=\"#DejaVuSans-65\" transform=\"translate(302.783203 0)\"/>\n     <use xlink:href=\"#DejaVuSans-72\" transform=\"translate(364.306641 0)\"/>\n    </g>\n   </g>\n  </g>\n  <g id=\"axes_2\">\n   <g id=\"patch_7\">\n    <path d=\"M 92.680851 106.989543 \nL 163.914894 106.989543 \nL 163.914894 35.7555 \nL 92.680851 35.7555 \nz\n\" style=\"fill: #ffffff\"/>\n   </g>\n   <g clip-path=\"url(#p1ece7215cb)\">\n    <image xlink:href=\"data:image/png;base64,\niVBORw0KGgoAAAANSUhEUgAAAGMAAABjCAYAAACPO76VAAAFUUlEQVR4nO2cTW8bVRSGZzzjr9jGdtKGNCGhokQiTVlUgCLYgliCQIh/wF9gV6Fu+AFsoIsukLpCQqKiCBCLLlAF5UOiVLSkITSF0oakTXDs2I49H+zuue8NE0ol0rN4n9U5Pndmbv3mnnvmzNT+C/5rqUdUkHvQEyACxVAExVAExVAExVAExVAExVAExVAExVAExVAExVAExVAExVAExVAExVAExVAExVAExVAExVAExVAExVAExVAExVAExVAExVAExVAExVBEGE48DB9cPXHY2PlN1GowFouTT/BMQxnrl2MI1RpdYyepD7F8IGPjBK8XxeLncvhKcLW0Y+zUOWdvkAe/XBhmxjqdkszbuUbOFz+OcW5pqyDj+nj9gvW9Na/h91T94GsvC64MRVAMRVAMRfjHzp6ARPnV0+8b+621BRi8MagYu5bvQ+xQoWXsX3sHILb4l+xL4yNtiIW+s/dYRKn8rfRjzPU7UfiP4zzP87pDHAvHDUPwO9uyZwShk9/Lsi8drHQg1ij0jO1+Fz1rruVgCLHj1d+M/e6plyHGlaEIiqEI/9nP34Q0NT9629gXPjwOg7tzsmzDYgQxu2SNu5gK9pLcLidzBSyJ83nxkwTLx2gYyFzycWbM8zwvsecT43lsgq5TvlpuUsFrFOryXTRrXYi1tsvGLhcHEHv18CVjz5VuQYwrQxEUQxEUQxHhHytYhp6cPWvsL+aOQqxckxJuZ6UGseId0TXFlO31D0m+TZ02Smqn8z7uNbD3OHuGnfv99RKEigOn5YLVNBBJte6V17AdYv874gKWy2kofrtUxanV5Dyb41janguPGfv6KH73XBmKoBiKCB/9GJfm8y9JSglXCxCLboqfNDHddI9ICRe0MN2ELdE8KWIKiSvZd+DBthwX9PC4xMoag7rTbcVq0ktzcmxSwLFDK6UkIf5t5jDD4PWLYkdlJ72F4hdWMb35UxK7/N6TeL3sy5H9hmIogmIoIhzUsA493ZowdjS5A7HZqTVjzzVWIXZta9zY1Twed6tTF3txHGL1n2R/cRu4fiL5tT+Ge0ZodSCKK3jcThPH2m2NwHkqZ/v2/uF5nhdXZULu0zx7DyvdwdhDN+Q8I7exoxu+Le2mpLsMMa4MRVAMRVAMRYTFTWyFX+4+Yuyc8+RrtS0tkOsXpyEWWC0It87vPiYfPPPUEsRqC7K/nP92HmLFCdkY0qvYcihuWrm+6uwnPXC93kHJ4cNRpxXelJyeW6pA7MAFOe/olzchFv2O/r2SfVfFlaEKiqGIsHxxKTMYd/BWfuScdEenvl/HwX+KH7e2IOQHUj63n3gcYt+90TB2cXIbj7skaXHuRZzn4mezxnbbIY35u+C3bzSNXV3GVs30J5Km4is/ellEmRHP80PnyWZgt3sxLaZR9pm4MhRBMRRBMRThuz8yvPXpEWPnT43B4PJH3/yvkwnOT4K/+MOMsXPO0zu7VeG+oF1ax7FTZ36W4+5uZF7fzf2pk+/vmfT+freZK0MRFEMRoftB43XpzCbtZTdsyNXwhYS018sYiexV2m2cngE/XbCewjljK5PylsH0O3jLHy/+gv4e89lVlsIE9vdn4rkyFEExFEExFLErYSbtPd74uo9x/4X6Gfz/bu2Z54zdP4p70uQrV4z9rwWob5W6zj6w1x6233BlKIJiKGLXHTh5cHBlKIJiKIJiKIJiKIJiKIJiKIJiKIJiKIJiKIJiKIJiKIJiKIJiKIJiKIJiKIJiKIJiKIJiKIJiKIJiKIJiKIJiKIJiKIJiKIJiKIJiKIJiKIJiKIJiKIJiKIJiKOJv/fRtiyaMmuMAAAAASUVORK5CYII=\" id=\"image09e7e0f1a9\" transform=\"scale(1 -1) translate(0 -71.28)\" x=\"92.680851\" y=\"-35.709543\" width=\"71.28\" height=\"71.28\"/>\n   </g>\n   <g id=\"patch_8\">\n    <path d=\"M 92.680851 106.989543 \nL 92.680851 35.7555 \n\" style=\"fill: none; stroke: #000000; stroke-width: 0.8; stroke-linejoin: miter; stroke-linecap: square\"/>\n   </g>\n   <g id=\"patch_9\">\n    <path d=\"M 163.914894 106.989543 \nL 163.914894 35.7555 \n\" style=\"fill: none; stroke: #000000; stroke-width: 0.8; stroke-linejoin: miter; stroke-linecap: square\"/>\n   </g>\n   <g id=\"patch_10\">\n    <path d=\"M 92.680851 106.989543 \nL 163.914894 106.989543 \n\" style=\"fill: none; stroke: #000000; stroke-width: 0.8; stroke-linejoin: miter; stroke-linecap: square\"/>\n   </g>\n   <g id=\"patch_11\">\n    <path d=\"M 92.680851 35.7555 \nL 163.914894 35.7555 \n\" style=\"fill: none; stroke: #000000; stroke-width: 0.8; stroke-linejoin: miter; stroke-linecap: square\"/>\n   </g>\n   <g id=\"text_2\">\n    <!-- sneaker -->\n    <g transform=\"translate(104.585685 16.318125) scale(0.12 -0.12)\">\n     <defs>\n      <path id=\"DejaVuSans-73\" d=\"M 2834 3397 \nL 2834 2853 \nQ 2591 2978 2328 3040 \nQ 2066 3103 1784 3103 \nQ 1356 3103 1142 2972 \nQ 928 2841 928 2578 \nQ 928 2378 1081 2264 \nQ 1234 2150 1697 2047 \nL 1894 2003 \nQ 2506 1872 2764 1633 \nQ 3022 1394 3022 966 \nQ 3022 478 2636 193 \nQ 2250 -91 1575 -91 \nQ 1294 -91 989 -36 \nQ 684 19 347 128 \nL 347 722 \nQ 666 556 975 473 \nQ 1284 391 1588 391 \nQ 1994 391 2212 530 \nQ 2431 669 2431 922 \nQ 2431 1156 2273 1281 \nQ 2116 1406 1581 1522 \nL 1381 1569 \nQ 847 1681 609 1914 \nQ 372 2147 372 2553 \nQ 372 3047 722 3315 \nQ 1072 3584 1716 3584 \nQ 2034 3584 2315 3537 \nQ 2597 3491 2834 3397 \nz\n\" transform=\"scale(0.015625)\"/>\n      <path id=\"DejaVuSans-6e\" d=\"M 3513 2113 \nL 3513 0 \nL 2938 0 \nL 2938 2094 \nQ 2938 2591 2744 2837 \nQ 2550 3084 2163 3084 \nQ 1697 3084 1428 2787 \nQ 1159 2491 1159 1978 \nL 1159 0 \nL 581 0 \nL 581 3500 \nL 1159 3500 \nL 1159 2956 \nQ 1366 3272 1645 3428 \nQ 1925 3584 2291 3584 \nQ 2894 3584 3203 3211 \nQ 3513 2838 3513 2113 \nz\n\" transform=\"scale(0.015625)\"/>\n      <path id=\"DejaVuSans-6b\" d=\"M 581 4863 \nL 1159 4863 \nL 1159 1991 \nL 2875 3500 \nL 3609 3500 \nL 1753 1863 \nL 3688 0 \nL 2938 0 \nL 1159 1709 \nL 1159 0 \nL 581 0 \nL 581 4863 \nz\n\" transform=\"scale(0.015625)\"/>\n     </defs>\n     <use xlink:href=\"#DejaVuSans-73\"/>\n     <use xlink:href=\"#DejaVuSans-6e\" transform=\"translate(52.099609 0)\"/>\n     <use xlink:href=\"#DejaVuSans-65\" transform=\"translate(115.478516 0)\"/>\n     <use xlink:href=\"#DejaVuSans-61\" transform=\"translate(177.001953 0)\"/>\n     <use xlink:href=\"#DejaVuSans-6b\" transform=\"translate(238.28125 0)\"/>\n     <use xlink:href=\"#DejaVuSans-65\" transform=\"translate(292.566406 0)\"/>\n     <use xlink:href=\"#DejaVuSans-72\" transform=\"translate(354.089844 0)\"/>\n    </g>\n    <!-- sandal -->\n    <g transform=\"translate(108.54006 29.7555) scale(0.12 -0.12)\">\n     <defs>\n      <path id=\"DejaVuSans-64\" d=\"M 2906 2969 \nL 2906 4863 \nL 3481 4863 \nL 3481 0 \nL 2906 0 \nL 2906 525 \nQ 2725 213 2448 61 \nQ 2172 -91 1784 -91 \nQ 1150 -91 751 415 \nQ 353 922 353 1747 \nQ 353 2572 751 3078 \nQ 1150 3584 1784 3584 \nQ 2172 3584 2448 3432 \nQ 2725 3281 2906 2969 \nz\nM 947 1747 \nQ 947 1113 1208 752 \nQ 1469 391 1925 391 \nQ 2381 391 2643 752 \nQ 2906 1113 2906 1747 \nQ 2906 2381 2643 2742 \nQ 2381 3103 1925 3103 \nQ 1469 3103 1208 2742 \nQ 947 2381 947 1747 \nz\n\" transform=\"scale(0.015625)\"/>\n     </defs>\n     <use xlink:href=\"#DejaVuSans-73\"/>\n     <use xlink:href=\"#DejaVuSans-61\" transform=\"translate(52.099609 0)\"/>\n     <use xlink:href=\"#DejaVuSans-6e\" transform=\"translate(113.378906 0)\"/>\n     <use xlink:href=\"#DejaVuSans-64\" transform=\"translate(176.757812 0)\"/>\n     <use xlink:href=\"#DejaVuSans-61\" transform=\"translate(240.234375 0)\"/>\n     <use xlink:href=\"#DejaVuSans-6c\" transform=\"translate(301.513672 0)\"/>\n    </g>\n   </g>\n  </g>\n  <g id=\"axes_3\">\n   <g id=\"patch_12\">\n    <path d=\"M 178.161702 106.989543 \nL 249.395745 106.989543 \nL 249.395745 35.7555 \nL 178.161702 35.7555 \nz\n\" style=\"fill: #ffffff\"/>\n   </g>\n   <g clip-path=\"url(#p94cb00afa8)\">\n    <image xlink:href=\"data:image/png;base64,\niVBORw0KGgoAAAANSUhEUgAAAGMAAABjCAYAAACPO76VAAALhUlEQVR4nO1daWxU1xV+s3jGMx57vHs8XrGNTQwG41ADYXOJCyEsZUlLgLYUKCpBtJC0TVSUqKVCSlGr0qQCXKmFQFKFBIgjQQ0hBBw2GzBgFgPGNjPeARvP4H32/rvnfVON5bFocyPd79d39fldv5kz99zzzj33PkWx4hWfJMAFlN/0DQgQhDE4gjAGR1AH88eNf5jKeNZMK2i9Ti3j+o0K0Dz1FsaVYWGg1e4Yx/j4POzzdouZrmsKBc1tdjD+ZdH7oH1/95vQ7hvlZvyVwiugHakoZNynwOlzTEk3496b96RAWHb3MbQbBuMZP7djCmjhBysD9iNGBkcQxuAIQbkprY3cT01dMnZko65GqzoC9vHkUzO0E5SdjN+0YJ9pSaQ90oaDFvEFta9OTQLN0OKFtldD9zZG1w7a60UnGN8YaQFNtZh+q3PN+VIghCkd0P5FzHnGTxmngoafAiFGBkcQxuAIwhgcIag5I6rWxXjmEitotyqzGPfU1gfsI1Tthrb9ZCLjSRYPaI2zSEvMwfDRHhvBeIszBrTOfAytY2/QHHL08QTQXjVdZvyKA0Pb3Y9mylrdoKmyRjFuUt8C7eIgzWH2MdhnrBQYYmRwBGEMjhCUmwq784jxZL0dtFpZ2Csp0E1IPhqqISp0RQMJpIW14XXms6S1anGAK5KoH4+E14Wk90J7sIkCSstnmaA9WGdlvM0VBdpm0ynGt0qFoA1mkGtMVz8FrcerYzzqjt93MQTEyOAIwhgcQRiDIwQ1Z3hiyPdOj/gatLLY5xlXqENA87mcjBdEN4PWkhbJuL3fAFpYsywsDHGBlpZJKReVhOGj7y720/2dQcYTj+K9HWmkUHduMmZmH3oipEDoyNcw7j9nHe6YxLi+A+fIoSBGBkcQxuAIQbmpwQQ94+e7s0ErmFzH+ONifMrVHqcFneYBDB9fz/uK8UMxz4P2oJEWaUxmG2jbM0sZ93dTx0/OhLZlMS1M2bPw96f+ikJmz2rUWl3RUiD0ZpHbvDKYClptF913/NU20DD/gBAjgyMIY3AEYQyOENScIY/gTBrMYubqyTfu/CmuvKUfJ36pBtMRe1+mlbY4dQ9of3LOYTzJgCmH3BAKV7c/ng5aSB366dST5NPbpmlAC2+mjO6RU7gq996SfbJWPGhTx1JmusWJc0tnm5GucuF9DwUxMjiCMAZHCMpNqQZpSE/QN4I2R9dHDVm4KkmSVCrFUR/dKtCqnOQ2cjUPQQvX0kK/RolPsp/0jGb83w1jQctwNEE79BoVGkTGjwZN00OfKXufHbRfJq5gPEu6DlqOgTLY9/pMoMVcpq/VY8M+h4IYGRxBGIMjCGNwhOCytlqyXbEOw9BtHQWMr4i8DJp8ztDY0f6DXsqi1nowfJwe28D4/rMzQKtQke+PTMIwW/JiesTT+YTxkL4s0HrNNIfp27Sgqa1Y3yvHFVsa40q/Gt3Y63Q/qmhM/7jbcV6UQ4wMjiCMwRGCclPeEHoE1ypwkab0U3IjCav83IYMSlwjkj7upJL5cPUgaF1O2j5gsGBIbJTVWLUt04FmNuKikCIzhXF3KC4EPc0mF9OXhItSzujAC0MDbvr87Wf86o6LiJsq8XtSCDf17YAwBkcQxuAIQc0ZuvYBxje1TgbNVEmpi87l6HuVeloh1DzFMLCyLI9xRxbOGb4+ur2ofrxOX3qJceOaHNCaVuDKm1sWoUbW4d6N1HG0X0OtRK2+lmp9VTkYEte3U3GGoR8kSVtMxRJPO7D4LvKCFBBiZHAEYQyOEJSb6smgUNPrVyukPn2V8W1xNaBNWvUa465wvE4rqzPQn8cnYEcU/a2mF12IHFH6AWg/SMdl/4T0LsY7w+JA+1E8FVLkhOIWs73vLKI+V+F107LoM96qHAfamGjK6F7M83NT/3X3BDEyOIIwBkcQxuAIQc0Z+odUM3uqAYvYRkk3A17nWUATQ+8j3Hwb1kDpAkM7zguOaEqBOIz4u1ElUIa3ox/TIWNzsZ73WDZVRGR0rAXNOkD7LH5orAJN6aR0yOx5uNJ3xkpZ41C/c4neMH3JeJUd55OhIEYGRxDG4AjCGBwhqDlDc4OqLFQqTBurIqlwa2zFKtD2TPwX4+vuvgZa7sJaxq9fwHlIJc+OFPoVg52JZFQbgs8Vfxl1GNrVDvqYChU6+LtdCYybsPZOqn+DrpupxcJr731K+cxYiyf15GvpeSntmN91UmCIkcERhDE4QnAFCTYacu/m49D86wtU8JWwBwfj5P20vOdOcIJmlNXMLp1TAdqJ/S8w3tuPNbJtxeQWl5jLQev34sf6sItqaCektoBWfSuD8Rs5mG0um7aL8WY3rh7+M5XubWU0HuiVVb6O8cwb1dJwIUYGRxDG4AjCGBwhuP0ZMiwOwyMhfjOLusp4C31/o5vmidKi3aBtqqW55s/Zh0A7lEGriSkHscqikxYIpclhDaBttS6B9v2rtPLnicYwOPEcpenX9/4ctPRJNL/8wHwVNIXsZ7yiHK9LOzT8IyrkECODIwhjcIQRuyl/JBfQ1i3l+DGgneunwq2FBnQpy1No+Le6sS71zeJjjO+9tgi0pLNUBdDwY6zRLcspg/aBRFpt+/0l7Md42864rgPP3H1ipSzDnpdQM8fSdfPNt0E7vRb/drgQI4MjCGNwBGEMjjDiOaOgajm0F6aR3zywYRpoKgWlR/bZ80Gba6DrmvzmjAKdlXHLZgyXqycS33VnFmhLC0ugnamh/19X/A/QVo+ezfi9fc+BFreH/qclBbcl96RRGuetvDrQzqYsYNzdjOmXoSBGBkcQxuAII3ZTjgo8S9aVQsUDG2acAe1WH4WILh/us2jVUfbV6/fbWFmxnvH6og9AmyvlU59O/BjTD/8a2lvnfc54iAKLFT5KL6fGtnLQpi1bSo1qkKTs39kZ356Hofy9X9Hnzdoi3NS3EsIYHEEYgyOMeM4wPsDVPLub9mBk63DfWmkznczmcOG/bBugOeOTjJOgbT9NxWkvmeaDptDSuzUiI3CDRLcK722dke4nd89m0ORT2IvzMTN7Yfxn1BgPkrSmiPYwfngXDyD2qUf2tj0xMjiCMAZHGLGb6ksMbMcy+cqPJEmxejpxp+ZeCmg3+6nGaFLXStBMVVQrZUlJAy3N0cr4+szzoPmHz5kHNzCeU4JPy5KRihBuX0FfNP8m7cm483YiaB997++M70rGU4Sm7NwijQRiZHAEYQyOIIzBEUY8Z2jtGL7VdZN/7S/B17/Ne4fOTVc/h2FnTQUVkblsuELmrb7IeKYN5xpfNh08WaTH/bz+BWdSPG2Lbl6DJ7El7aQ9GXqtX6HcIipkUIdj+LyuajXjczLwDPWUg1bGhzpU2B9iZHAEYQyOoHhWL2e/v5deU6DU4Gk0EZX0JO0txhL5bhs9uUddRjcRX0mn8/iu43Zmy7u02POT+ZglrrJhGPz56C8YLx/A398fX6XtC72petDO/43CV4sL68R+VkdhuHYVnuzgeYRvThsuxMjgCMIYHEEYgyMEF9oqZWkGL84L2WspRFRnpIP2tIDmgpASv1fwLJeFun6z10Ayhbo6NaZY5KdlvB2LoeUmhxHaC+7PY3xJAm4hVtopVaOOxQMiJ+zYyHh8NR6Jof6a+hn+i3yGhhgZHEEYgyM8s9B2pJDvkv349gnQ1lup/uhaEz6Bbxx/lvG5Bgx7D9iwxsnuotD63NGJoBmmyF4kfwhPwIn6AGu1/tcQI4MjCGNwBGEMjvDM9mfI33SsUOFKm09+NrlfSOyx02reb9u/C1rdE8oEv1d4ELQeD80DNU58f8WWGFz5S1RTOP3ybKzndXjoK1A2YFpDDoUWT4nzuWT5WO+zCW7FyOAIwhgc4RsPbYeLrjUYrsado1qojhnopryY/IXzz1UO/LhxJf/f8HUoiJHBEYQxOIIwBkf4D/aXHSPrflWfAAAAAElFTkSuQmCC\" id=\"imagea5d1c2dd7c\" transform=\"scale(1 -1) translate(0 -71.28)\" x=\"178.161702\" y=\"-35.709543\" width=\"71.28\" height=\"71.28\"/>\n   </g>\n   <g id=\"patch_13\">\n    <path d=\"M 178.161702 106.989543 \nL 178.161702 35.7555 \n\" style=\"fill: none; stroke: #000000; stroke-width: 0.8; stroke-linejoin: miter; stroke-linecap: square\"/>\n   </g>\n   <g id=\"patch_14\">\n    <path d=\"M 249.395745 106.989543 \nL 249.395745 35.7555 \n\" style=\"fill: none; stroke: #000000; stroke-width: 0.8; stroke-linejoin: miter; stroke-linecap: square\"/>\n   </g>\n   <g id=\"patch_15\">\n    <path d=\"M 178.161702 106.989543 \nL 249.395745 106.989543 \n\" style=\"fill: none; stroke: #000000; stroke-width: 0.8; stroke-linejoin: miter; stroke-linecap: square\"/>\n   </g>\n   <g id=\"patch_16\">\n    <path d=\"M 178.161702 35.7555 \nL 249.395745 35.7555 \n\" style=\"fill: none; stroke: #000000; stroke-width: 0.8; stroke-linejoin: miter; stroke-linecap: square\"/>\n   </g>\n   <g id=\"text_3\">\n    <!-- coat -->\n    <g transform=\"translate(200.779348 16.318125) scale(0.12 -0.12)\">\n     <use xlink:href=\"#DejaVuSans-63\"/>\n     <use xlink:href=\"#DejaVuSans-6f\" transform=\"translate(54.980469 0)\"/>\n     <use xlink:href=\"#DejaVuSans-61\" transform=\"translate(116.162109 0)\"/>\n     <use xlink:href=\"#DejaVuSans-74\" transform=\"translate(177.441406 0)\"/>\n    </g>\n    <!-- pullover -->\n    <g transform=\"translate(189.452473 29.7555) scale(0.12 -0.12)\">\n     <use xlink:href=\"#DejaVuSans-70\"/>\n     <use xlink:href=\"#DejaVuSans-75\" transform=\"translate(63.476562 0)\"/>\n     <use xlink:href=\"#DejaVuSans-6c\" transform=\"translate(126.855469 0)\"/>\n     <use xlink:href=\"#DejaVuSans-6c\" transform=\"translate(154.638672 0)\"/>\n     <use xlink:href=\"#DejaVuSans-6f\" transform=\"translate(182.421875 0)\"/>\n     <use xlink:href=\"#DejaVuSans-76\" transform=\"translate(243.603516 0)\"/>\n     <use xlink:href=\"#DejaVuSans-65\" transform=\"translate(302.783203 0)\"/>\n     <use xlink:href=\"#DejaVuSans-72\" transform=\"translate(364.306641 0)\"/>\n    </g>\n   </g>\n  </g>\n  <g id=\"axes_4\">\n   <g id=\"patch_17\">\n    <path d=\"M 263.642553 106.989543 \nL 334.876596 106.989543 \nL 334.876596 35.7555 \nL 263.642553 35.7555 \nz\n\" style=\"fill: #ffffff\"/>\n   </g>\n   <g clip-path=\"url(#pcd9b1e4acb)\">\n    <image xlink:href=\"data:image/png;base64,\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\" id=\"image2249a56e2c\" transform=\"scale(1 -1) translate(0 -71.28)\" x=\"263.642553\" y=\"-35.709543\" width=\"71.28\" height=\"71.28\"/>\n   </g>\n   <g id=\"patch_18\">\n    <path d=\"M 263.642553 106.989543 \nL 263.642553 35.7555 \n\" style=\"fill: none; stroke: #000000; stroke-width: 0.8; stroke-linejoin: miter; stroke-linecap: square\"/>\n   </g>\n   <g id=\"patch_19\">\n    <path d=\"M 334.876596 106.989543 \nL 334.876596 35.7555 \n\" style=\"fill: none; stroke: #000000; stroke-width: 0.8; stroke-linejoin: miter; stroke-linecap: square\"/>\n   </g>\n   <g id=\"patch_20\">\n    <path d=\"M 263.642553 106.989543 \nL 334.876596 106.989543 \n\" style=\"fill: none; stroke: #000000; stroke-width: 0.8; stroke-linejoin: miter; stroke-linecap: square\"/>\n   </g>\n   <g id=\"patch_21\">\n    <path d=\"M 263.642553 35.7555 \nL 334.876596 35.7555 \n\" style=\"fill: none; stroke: #000000; stroke-width: 0.8; stroke-linejoin: miter; stroke-linecap: square\"/>\n   </g>\n   <g id=\"text_4\">\n    <!-- sandal -->\n    <g transform=\"translate(279.501762 16.318125) scale(0.12 -0.12)\">\n     <use xlink:href=\"#DejaVuSans-73\"/>\n     <use xlink:href=\"#DejaVuSans-61\" transform=\"translate(52.099609 0)\"/>\n     <use xlink:href=\"#DejaVuSans-6e\" transform=\"translate(113.378906 0)\"/>\n     <use xlink:href=\"#DejaVuSans-64\" transform=\"translate(176.757812 0)\"/>\n     <use xlink:href=\"#DejaVuSans-61\" transform=\"translate(240.234375 0)\"/>\n     <use xlink:href=\"#DejaVuSans-6c\" transform=\"translate(301.513672 0)\"/>\n    </g>\n    <!-- sneaker -->\n    <g transform=\"translate(275.547387 29.7555) scale(0.12 -0.12)\">\n     <use xlink:href=\"#DejaVuSans-73\"/>\n     <use xlink:href=\"#DejaVuSans-6e\" transform=\"translate(52.099609 0)\"/>\n     <use xlink:href=\"#DejaVuSans-65\" transform=\"translate(115.478516 0)\"/>\n     <use xlink:href=\"#DejaVuSans-61\" transform=\"translate(177.001953 0)\"/>\n     <use xlink:href=\"#DejaVuSans-6b\" transform=\"translate(238.28125 0)\"/>\n     <use xlink:href=\"#DejaVuSans-65\" transform=\"translate(292.566406 0)\"/>\n     <use xlink:href=\"#DejaVuSans-72\" transform=\"translate(354.089844 0)\"/>\n    </g>\n   </g>\n  </g>\n  <g id=\"axes_5\">\n   <g id=\"patch_22\">\n    <path d=\"M 349.123404 106.989543 \nL 420.357447 106.989543 \nL 420.357447 35.7555 \nL 349.123404 35.7555 \nz\n\" style=\"fill: #ffffff\"/>\n   </g>\n   <g clip-path=\"url(#p42cd64368e)\">\n    <image xlink:href=\"data:image/png;base64,\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\" id=\"imagee8a9611cbb\" transform=\"scale(1 -1) translate(0 -71.28)\" x=\"349.123404\" y=\"-35.709543\" width=\"71.28\" height=\"71.28\"/>\n   </g>\n   <g id=\"patch_23\">\n    <path d=\"M 349.123404 106.989543 \nL 349.123404 35.7555 \n\" style=\"fill: none; stroke: #000000; stroke-width: 0.8; stroke-linejoin: miter; stroke-linecap: square\"/>\n   </g>\n   <g id=\"patch_24\">\n    <path d=\"M 420.357447 106.989543 \nL 420.357447 35.7555 \n\" style=\"fill: none; stroke: #000000; stroke-width: 0.8; stroke-linejoin: miter; stroke-linecap: square\"/>\n   </g>\n   <g id=\"patch_25\">\n    <path d=\"M 349.123404 106.989543 \nL 420.357447 106.989543 \n\" style=\"fill: none; stroke: #000000; stroke-width: 0.8; stroke-linejoin: miter; stroke-linecap: square\"/>\n   </g>\n   <g id=\"patch_26\">\n    <path d=\"M 349.123404 35.7555 \nL 420.357447 35.7555 \n\" style=\"fill: none; stroke: #000000; stroke-width: 0.8; stroke-linejoin: miter; stroke-linecap: square\"/>\n   </g>\n   <g id=\"text_5\">\n    <!-- ankle boot -->\n    <g transform=\"translate(353.017301 16.318125) scale(0.12 -0.12)\">\n     <defs>\n      <path id=\"DejaVuSans-20\" transform=\"scale(0.015625)\"/>\n      <path id=\"DejaVuSans-62\" d=\"M 3116 1747 \nQ 3116 2381 2855 2742 \nQ 2594 3103 2138 3103 \nQ 1681 3103 1420 2742 \nQ 1159 2381 1159 1747 \nQ 1159 1113 1420 752 \nQ 1681 391 2138 391 \nQ 2594 391 2855 752 \nQ 3116 1113 3116 1747 \nz\nM 1159 2969 \nQ 1341 3281 1617 3432 \nQ 1894 3584 2278 3584 \nQ 2916 3584 3314 3078 \nQ 3713 2572 3713 1747 \nQ 3713 922 3314 415 \nQ 2916 -91 2278 -91 \nQ 1894 -91 1617 61 \nQ 1341 213 1159 525 \nL 1159 0 \nL 581 0 \nL 581 4863 \nL 1159 4863 \nL 1159 2969 \nz\n\" transform=\"scale(0.015625)\"/>\n     </defs>\n     <use xlink:href=\"#DejaVuSans-61\"/>\n     <use xlink:href=\"#DejaVuSans-6e\" transform=\"translate(61.279297 0)\"/>\n     <use xlink:href=\"#DejaVuSans-6b\" transform=\"translate(124.658203 0)\"/>\n     <use xlink:href=\"#DejaVuSans-6c\" transform=\"translate(182.568359 0)\"/>\n     <use xlink:href=\"#DejaVuSans-65\" transform=\"translate(210.351562 0)\"/>\n     <use xlink:href=\"#DejaVuSans-20\" transform=\"translate(271.875 0)\"/>\n     <use xlink:href=\"#DejaVuSans-62\" transform=\"translate(303.662109 0)\"/>\n     <use xlink:href=\"#DejaVuSans-6f\" transform=\"translate(367.138672 0)\"/>\n     <use xlink:href=\"#DejaVuSans-6f\" transform=\"translate(428.320312 0)\"/>\n     <use xlink:href=\"#DejaVuSans-74\" transform=\"translate(489.501953 0)\"/>\n    </g>\n    <!-- sneaker -->\n    <g transform=\"translate(361.028238 29.7555) scale(0.12 -0.12)\">\n     <use xlink:href=\"#DejaVuSans-73\"/>\n     <use xlink:href=\"#DejaVuSans-6e\" transform=\"translate(52.099609 0)\"/>\n     <use xlink:href=\"#DejaVuSans-65\" transform=\"translate(115.478516 0)\"/>\n     <use xlink:href=\"#DejaVuSans-61\" transform=\"translate(177.001953 0)\"/>\n     <use xlink:href=\"#DejaVuSans-6b\" transform=\"translate(238.28125 0)\"/>\n     <use xlink:href=\"#DejaVuSans-65\" transform=\"translate(292.566406 0)\"/>\n     <use xlink:href=\"#DejaVuSans-72\" transform=\"translate(354.089844 0)\"/>\n    </g>\n   </g>\n  </g>\n  <g id=\"axes_6\">\n   <g id=\"patch_27\">\n    <path d=\"M 434.604255 106.989543 \nL 505.838298 106.989543 \nL 505.838298 35.7555 \nL 434.604255 35.7555 \nz\n\" style=\"fill: #ffffff\"/>\n   </g>\n   <g clip-path=\"url(#pafd5174c8b)\">\n    <image xlink:href=\"data:image/png;base64,\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\" id=\"image1aa1e10df4\" transform=\"scale(1 -1) translate(0 -71.28)\" x=\"434.604255\" y=\"-35.709543\" width=\"71.28\" height=\"71.28\"/>\n   </g>\n   <g id=\"patch_28\">\n    <path d=\"M 434.604255 106.989543 \nL 434.604255 35.7555 \n\" style=\"fill: none; stroke: #000000; stroke-width: 0.8; stroke-linejoin: miter; stroke-linecap: square\"/>\n   </g>\n   <g id=\"patch_29\">\n    <path d=\"M 505.838298 106.989543 \nL 505.838298 35.7555 \n\" style=\"fill: none; stroke: #000000; stroke-width: 0.8; stroke-linejoin: miter; stroke-linecap: square\"/>\n   </g>\n   <g id=\"patch_30\">\n    <path d=\"M 434.604255 106.989543 \nL 505.838298 106.989543 \n\" style=\"fill: none; stroke: #000000; stroke-width: 0.8; stroke-linejoin: miter; stroke-linecap: square\"/>\n   </g>\n   <g id=\"patch_31\">\n    <path d=\"M 434.604255 35.7555 \nL 505.838298 35.7555 \n\" style=\"fill: none; stroke: #000000; stroke-width: 0.8; stroke-linejoin: miter; stroke-linecap: square\"/>\n   </g>\n   <g id=\"text_6\">\n    <!-- coat -->\n    <g transform=\"translate(457.221902 16.318125) scale(0.12 -0.12)\">\n     <use xlink:href=\"#DejaVuSans-63\"/>\n     <use xlink:href=\"#DejaVuSans-6f\" transform=\"translate(54.980469 0)\"/>\n     <use xlink:href=\"#DejaVuSans-61\" transform=\"translate(116.162109 0)\"/>\n     <use xlink:href=\"#DejaVuSans-74\" transform=\"translate(177.441406 0)\"/>\n    </g>\n    <!-- pullover -->\n    <g transform=\"translate(445.895027 29.7555) scale(0.12 -0.12)\">\n     <use xlink:href=\"#DejaVuSans-70\"/>\n     <use xlink:href=\"#DejaVuSans-75\" transform=\"translate(63.476562 0)\"/>\n     <use xlink:href=\"#DejaVuSans-6c\" transform=\"translate(126.855469 0)\"/>\n     <use xlink:href=\"#DejaVuSans-6c\" transform=\"translate(154.638672 0)\"/>\n     <use xlink:href=\"#DejaVuSans-6f\" transform=\"translate(182.421875 0)\"/>\n     <use xlink:href=\"#DejaVuSans-76\" transform=\"translate(243.603516 0)\"/>\n     <use xlink:href=\"#DejaVuSans-65\" transform=\"translate(302.783203 0)\"/>\n     <use xlink:href=\"#DejaVuSans-72\" transform=\"translate(364.306641 0)\"/>\n    </g>\n   </g>\n  </g>\n  <g id=\"axes_7\">\n   <g id=\"patch_32\">\n    <path d=\"M 520.085106 106.989543 \nL 591.319149 106.989543 \nL 591.319149 35.7555 \nL 520.085106 35.7555 \nz\n\" style=\"fill: #ffffff\"/>\n   </g>\n   <g clip-path=\"url(#pe17ed79ac4)\">\n    <image xlink:href=\"data:image/png;base64,\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\" id=\"image7a873fd0b2\" transform=\"scale(1 -1) translate(0 -71.28)\" x=\"520.085106\" y=\"-35.709543\" width=\"71.28\" height=\"71.28\"/>\n   </g>\n   <g id=\"patch_33\">\n    <path d=\"M 520.085106 106.989543 \nL 520.085106 35.7555 \n\" style=\"fill: none; stroke: #000000; stroke-width: 0.8; stroke-linejoin: miter; stroke-linecap: square\"/>\n   </g>\n   <g id=\"patch_34\">\n    <path d=\"M 591.319149 106.989543 \nL 591.319149 35.7555 \n\" style=\"fill: none; stroke: #000000; stroke-width: 0.8; stroke-linejoin: miter; stroke-linecap: square\"/>\n   </g>\n   <g id=\"patch_35\">\n    <path d=\"M 520.085106 106.989543 \nL 591.319149 106.989543 \n\" style=\"fill: none; stroke: #000000; stroke-width: 0.8; stroke-linejoin: miter; stroke-linecap: square\"/>\n   </g>\n   <g id=\"patch_36\">\n    <path d=\"M 520.085106 35.7555 \nL 591.319149 35.7555 \n\" style=\"fill: none; stroke: #000000; stroke-width: 0.8; stroke-linejoin: miter; stroke-linecap: square\"/>\n   </g>\n   <g id=\"text_7\">\n    <!-- dress -->\n    <g transform=\"translate(539.618378 16.318125) scale(0.12 -0.12)\">\n     <use xlink:href=\"#DejaVuSans-64\"/>\n     <use xlink:href=\"#DejaVuSans-72\" transform=\"translate(63.476562 0)\"/>\n     <use xlink:href=\"#DejaVuSans-65\" transform=\"translate(102.339844 0)\"/>\n     <use xlink:href=\"#DejaVuSans-73\" transform=\"translate(163.863281 0)\"/>\n     <use xlink:href=\"#DejaVuSans-73\" transform=\"translate(215.962891 0)\"/>\n    </g>\n    <!-- shirt -->\n    <g transform=\"translate(542.288378 29.7555) scale(0.12 -0.12)\">\n     <defs>\n      <path id=\"DejaVuSans-68\" d=\"M 3513 2113 \nL 3513 0 \nL 2938 0 \nL 2938 2094 \nQ 2938 2591 2744 2837 \nQ 2550 3084 2163 3084 \nQ 1697 3084 1428 2787 \nQ 1159 2491 1159 1978 \nL 1159 0 \nL 581 0 \nL 581 4863 \nL 1159 4863 \nL 1159 2956 \nQ 1366 3272 1645 3428 \nQ 1925 3584 2291 3584 \nQ 2894 3584 3203 3211 \nQ 3513 2838 3513 2113 \nz\n\" transform=\"scale(0.015625)\"/>\n      <path id=\"DejaVuSans-69\" d=\"M 603 3500 \nL 1178 3500 \nL 1178 0 \nL 603 0 \nL 603 3500 \nz\nM 603 4863 \nL 1178 4863 \nL 1178 4134 \nL 603 4134 \nL 603 4863 \nz\n\" transform=\"scale(0.015625)\"/>\n     </defs>\n     <use xlink:href=\"#DejaVuSans-73\"/>\n     <use xlink:href=\"#DejaVuSans-68\" transform=\"translate(52.099609 0)\"/>\n     <use xlink:href=\"#DejaVuSans-69\" transform=\"translate(115.478516 0)\"/>\n     <use xlink:href=\"#DejaVuSans-72\" transform=\"translate(143.261719 0)\"/>\n     <use xlink:href=\"#DejaVuSans-74\" transform=\"translate(184.375 0)\"/>\n    </g>\n   </g>\n  </g>\n  <g id=\"axes_8\">\n   <g id=\"patch_37\">\n    <path d=\"M 605.565957 106.989543 \nL 676.8 106.989543 \nL 676.8 35.7555 \nL 605.565957 35.7555 \nz\n\" style=\"fill: #ffffff\"/>\n   </g>\n   <g clip-path=\"url(#p5094ff1f85)\">\n    <image xlink:href=\"data:image/png;base64,\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\" id=\"image602a5780d8\" transform=\"scale(1 -1) translate(0 -71.28)\" x=\"605.565957\" y=\"-35.709543\" width=\"71.28\" height=\"71.28\"/>\n   </g>\n   <g id=\"patch_38\">\n    <path d=\"M 605.565957 106.989543 \nL 605.565957 35.7555 \n\" style=\"fill: none; stroke: #000000; stroke-width: 0.8; stroke-linejoin: miter; stroke-linecap: square\"/>\n   </g>\n   <g id=\"patch_39\">\n    <path d=\"M 676.8 106.989543 \nL 676.8 35.7555 \n\" style=\"fill: none; stroke: #000000; stroke-width: 0.8; stroke-linejoin: miter; stroke-linecap: square\"/>\n   </g>\n   <g id=\"patch_40\">\n    <path d=\"M 605.565957 106.989543 \nL 676.8 106.989543 \n\" style=\"fill: none; stroke: #000000; stroke-width: 0.8; stroke-linejoin: miter; stroke-linecap: square\"/>\n   </g>\n   <g id=\"patch_41\">\n    <path d=\"M 605.565957 35.7555 \nL 676.8 35.7555 \n\" style=\"fill: none; stroke: #000000; stroke-width: 0.8; stroke-linejoin: miter; stroke-linecap: square\"/>\n   </g>\n   <g id=\"text_8\">\n    <!-- shirt -->\n    <g transform=\"translate(627.769229 16.318125) scale(0.12 -0.12)\">\n     <use xlink:href=\"#DejaVuSans-73\"/>\n     <use xlink:href=\"#DejaVuSans-68\" transform=\"translate(52.099609 0)\"/>\n     <use xlink:href=\"#DejaVuSans-69\" transform=\"translate(115.478516 0)\"/>\n     <use xlink:href=\"#DejaVuSans-72\" transform=\"translate(143.261719 0)\"/>\n     <use xlink:href=\"#DejaVuSans-74\" transform=\"translate(184.375 0)\"/>\n    </g>\n    <!-- t-shirt -->\n    <g transform=\"translate(623.252354 29.7555) scale(0.12 -0.12)\">\n     <defs>\n      <path id=\"DejaVuSans-2d\" d=\"M 313 2009 \nL 1997 2009 \nL 1997 1497 \nL 313 1497 \nL 313 2009 \nz\n\" transform=\"scale(0.015625)\"/>\n     </defs>\n     <use xlink:href=\"#DejaVuSans-74\"/>\n     <use xlink:href=\"#DejaVuSans-2d\" transform=\"translate(39.208984 0)\"/>\n     <use xlink:href=\"#DejaVuSans-73\" transform=\"translate(75.292969 0)\"/>\n     <use xlink:href=\"#DejaVuSans-68\" transform=\"translate(127.392578 0)\"/>\n     <use xlink:href=\"#DejaVuSans-69\" transform=\"translate(190.771484 0)\"/>\n     <use xlink:href=\"#DejaVuSans-72\" transform=\"translate(218.554688 0)\"/>\n     <use xlink:href=\"#DejaVuSans-74\" transform=\"translate(259.667969 0)\"/>\n    </g>\n   </g>\n  </g>\n </g>\n <defs>\n  <clipPath id=\"p5d2ebe5450\">\n   <rect x=\"7.2\" y=\"35.7555\" width=\"71.234043\" height=\"71.234043\"/>\n  </clipPath>\n  <clipPath id=\"p1ece7215cb\">\n   <rect x=\"92.680851\" y=\"35.7555\" width=\"71.234043\" height=\"71.234043\"/>\n  </clipPath>\n  <clipPath id=\"p94cb00afa8\">\n   <rect x=\"178.161702\" y=\"35.7555\" width=\"71.234043\" height=\"71.234043\"/>\n  </clipPath>\n  <clipPath id=\"pcd9b1e4acb\">\n   <rect x=\"263.642553\" y=\"35.7555\" width=\"71.234043\" height=\"71.234043\"/>\n  </clipPath>\n  <clipPath id=\"p42cd64368e\">\n   <rect x=\"349.123404\" y=\"35.7555\" width=\"71.234043\" height=\"71.234043\"/>\n  </clipPath>\n  <clipPath id=\"pafd5174c8b\">\n   <rect x=\"434.604255\" y=\"35.7555\" width=\"71.234043\" height=\"71.234043\"/>\n  </clipPath>\n  <clipPath id=\"pe17ed79ac4\">\n   <rect x=\"520.085106\" y=\"35.7555\" width=\"71.234043\" height=\"71.234043\"/>\n  </clipPath>\n  <clipPath id=\"p5094ff1f85\">\n   <rect x=\"605.565957\" y=\"35.7555\" width=\"71.234043\" height=\"71.234043\"/>\n  </clipPath>\n </defs>\n</svg>\n"
          },
          "metadata": {}
        }
      ],
      "source": [
        "wrong = preds.type(y.dtype) != y\n",
        "X, y, preds = X[wrong], y[wrong], preds[wrong]\n",
        "labels = [a+'\\n'+b for a, b in zip(\n",
        "    data.text_labels(y), data.text_labels(preds))]\n",
        "data.visualize([X, y], labels=labels)"
      ]
    },
    {
      "cell_type": "markdown",
      "id": "806939a6",
      "metadata": {
        "origin_pos": 36,
        "id": "806939a6"
      },
      "source": [
        "## Summary\n",
        "\n",
        "By now we are starting to get some experience\n",
        "with solving linear regression\n",
        "and classification problems.\n",
        "With it, we have reached what would arguably be\n",
        "the state of the art of 1960--1970s of statistical modeling.\n",
        "In the next section, we will show you how to leverage\n",
        "deep learning frameworks to implement this model\n",
        "much more efficiently.\n",
        "\n",
        "## Exercises\n",
        "\n",
        "1. In this section, we directly implemented the softmax function based on the mathematical definition of the softmax operation. As discussed in :numref:`sec_softmax` this can cause numerical instabilities.\n",
        "    1. Test whether `softmax` still works correctly if an input has a value of $100$.\n",
        "    1. Test whether `softmax` still works correctly if the largest of all inputs is smaller than $-100$?\n",
        "    1. Implement a fix by looking at the value relative to the largest entry in the argument.\n",
        "1. Implement a `cross_entropy` function that follows the definition of the cross-entropy loss function $\\sum_i y_i \\log \\hat{y}_i$.\n",
        "    1. Try it out in the code example of this section.\n",
        "    1. Why do you think it runs more slowly?\n",
        "    1. Should you use it? When would it make sense to?\n",
        "    1. What do you need to be careful of? Hint: consider the domain of the logarithm.\n",
        "1. Is it always a good idea to return the most likely label? For example, would you do this for medical diagnosis? How would you try to address this?\n",
        "1. Assume that we want to use softmax regression to predict the next word based on some features. What are some problems that might arise from a large vocabulary?\n",
        "1. Experiment with the hyperparameters of the code in this section. In particular:\n",
        "    1. Plot how the validation loss changes as you change the learning rate.\n",
        "    1. Do the validation and training loss change as you change the minibatch size? How large or small do you need to go before you see an effect?\n"
      ]
    },
    {
      "cell_type": "markdown",
      "id": "840785bb",
      "metadata": {
        "origin_pos": 38,
        "tab": [
          "pytorch"
        ],
        "id": "840785bb"
      },
      "source": [
        "[Discussions](https://discuss.d2l.ai/t/51)\n"
      ]
    },
    {
      "cell_type": "code",
      "source": [
        "# 1/ test softmax\n",
        "def softmax_stable(X):\n",
        "  X_shifted = X - X.max(dim = -1, keepdim = True).values #subtract the value relative to the largest entry in the argument -> avoid overflow(when x big), underflow(when x small)\n",
        "  exp_X = torch.exp(X_shifted)\n",
        "  return exp_X / exp_X.sum(dim = -1, keepdim = True)\n",
        "\n",
        "x_big   = torch.tensor([[100.0, 1.0, 0.0]])        # shape (1, 3)\n",
        "x_small = torch.tensor([[-120.0, -130.0, -140.0]]) # shape (1, 3)\n",
        "\n",
        "print(\"stable softmax x_big:  \", softmax_stable(x_big))\n",
        "print(\"stable softmax x_small:\", softmax_stable(x_small))"
      ],
      "metadata": {
        "id": "4ICXowKOYJ-y",
        "outputId": "512c47e4-df6f-4129-d07e-6c9805d31386",
        "colab": {
          "base_uri": "https://localhost:8080/"
        }
      },
      "id": "4ICXowKOYJ-y",
      "execution_count": 12,
      "outputs": [
        {
          "output_type": "stream",
          "name": "stdout",
          "text": [
            "stable softmax x_big:   tensor([[1.0000e+00, 1.0089e-43, 3.7835e-44]])\n",
            "stable softmax x_small: tensor([[9.9995e-01, 4.5398e-05, 2.0611e-09]])\n"
          ]
        }
      ]
    },
    {
      "cell_type": "markdown",
      "source": [],
      "metadata": {
        "id": "fvEBdxf7YJ1T"
      },
      "id": "fvEBdxf7YJ1T"
    }
  ],
  "metadata": {
    "kernelspec": {
      "display_name": "Python 3",
      "name": "python3"
    },
    "language_info": {
      "name": "python"
    },
    "required_libs": [],
    "colab": {
      "provenance": [],
      "include_colab_link": true
    }
  },
  "nbformat": 4,
  "nbformat_minor": 5
}